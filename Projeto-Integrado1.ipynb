{
 "cells": [
  {
   "cell_type": "markdown",
   "id": "218f9a4c-c16a-4ad9-8e26-72eca59e6ae7",
   "metadata": {
    "tags": []
   },
   "source": [
    "# PROJETO INTEGRADO\n",
    "Luiz Guilherme Graciano Ribeiro Pereira"
   ]
  },
  {
   "cell_type": "markdown",
   "id": "8a34978d-976c-4883-9ea9-34f0879bbbd7",
   "metadata": {
    "tags": []
   },
   "source": [
    "A atividade consiste em analisar os dados coletados de 2016 de uma loja de online. A loja online Ice, vende videogames no mundo todo, os dados a serem analisados são os dados históricos sobre vendas de jogos. O objetivo é identificar possíveis sucessos para planejar uma campanha publicitária para 2017."
   ]
  },
  {
   "cell_type": "markdown",
   "id": "7a88858b-2d96-4240-831c-8b7692b4581a",
   "metadata": {},
   "source": [
    "\n",
    "\n",
    "\n",
    "\n",
    "Descrição de dados:\n",
    "- `Name` (nome)\n",
    "- `Platform` (plataforma)\n",
    "- `Year_of_Release` (Ano de lançamento)\n",
    "- `Genre`(gênero)\n",
    "- `NA_sales` (vendas norte-americanas em milhões de USD)\n",
    "- `EU_sales` (vendas na Europa em milhões de USD)\n",
    "- `JP_sales` (vendas no Japão em milhões de USD)\n",
    "- `Other_sales` (vendas em outros países em em milhões de USD)\n",
    "- `Critic_Score` - (Pontuação crítica) (máximo de 100)\n",
    "- `User_Score` - (Pontuação do usuário) (máximo de 10)\n",
    "- `Classificação` (ESRB)"
   ]
  },
  {
   "cell_type": "markdown",
   "id": "410cd392-874b-4f08-bd6c-cf9291122214",
   "metadata": {},
   "source": [
    "Ratings:\n",
    "- Everyone: Conteúdo geralmente adequado para todas as idades.\n",
    "- Everyone: 10+ Conteúdo geralmente adequado para idades a partir de 10 anos.\n",
    "- Teen: Conteúdo geralmente adequado para idades a partir de 13 anos.\n",
    "- Mature: 17+ Conteúdo geralmente adequado para idades a partir de 17 anos.\n",
    "- Adults: Somente para maiores de 18 anos."
   ]
  },
  {
   "cell_type": "code",
   "execution_count": 1,
   "id": "6d5ade5d-389a-4f04-a711-f712602d9988",
   "metadata": {},
   "outputs": [],
   "source": [
    "import pandas as pd\n",
    "import numpy as np\n",
    "import matplotlib.pyplot as plt\n",
    "import seaborn as sns\n",
    "import matplotlib.colors as mcolors\n",
    "from scipy.stats import ttest_ind\n",
    "from scipy.stats import levene"
   ]
  },
  {
   "cell_type": "code",
   "execution_count": 2,
   "id": "bbb43a3b-73f2-4056-b030-9c769cf0a553",
   "metadata": {
    "tags": []
   },
   "outputs": [],
   "source": [
    "try:\n",
    "    games = pd.read_csv('games.csv')\n",
    "except:\n",
    "    games = pd.read_csv('/datasets/games.csv')\n",
    "    "
   ]
  },
  {
   "cell_type": "markdown",
   "id": "a3c6bd27-19b5-4ae2-81b0-43992b0694f4",
   "metadata": {
    "tags": []
   },
   "source": [
    "## PREPARO DOS DADOS"
   ]
  },
  {
   "cell_type": "markdown",
   "id": "31bfe6f5-b538-4889-a4e1-ad1d530d67f6",
   "metadata": {
    "tags": []
   },
   "source": [
    "### Identificação dos Problemas"
   ]
  },
  {
   "cell_type": "code",
   "execution_count": 3,
   "id": "a121fc56-8181-464b-9213-dc9e1e2ea26c",
   "metadata": {},
   "outputs": [
    {
     "data": {
      "text/html": [
       "<div>\n",
       "<style scoped>\n",
       "    .dataframe tbody tr th:only-of-type {\n",
       "        vertical-align: middle;\n",
       "    }\n",
       "\n",
       "    .dataframe tbody tr th {\n",
       "        vertical-align: top;\n",
       "    }\n",
       "\n",
       "    .dataframe thead th {\n",
       "        text-align: right;\n",
       "    }\n",
       "</style>\n",
       "<table border=\"1\" class=\"dataframe\">\n",
       "  <thead>\n",
       "    <tr style=\"text-align: right;\">\n",
       "      <th></th>\n",
       "      <th>Name</th>\n",
       "      <th>Platform</th>\n",
       "      <th>Year_of_Release</th>\n",
       "      <th>Genre</th>\n",
       "      <th>NA_sales</th>\n",
       "      <th>EU_sales</th>\n",
       "      <th>JP_sales</th>\n",
       "      <th>Other_sales</th>\n",
       "      <th>Critic_Score</th>\n",
       "      <th>User_Score</th>\n",
       "      <th>Rating</th>\n",
       "    </tr>\n",
       "  </thead>\n",
       "  <tbody>\n",
       "    <tr>\n",
       "      <th>0</th>\n",
       "      <td>Wii Sports</td>\n",
       "      <td>Wii</td>\n",
       "      <td>2006.0</td>\n",
       "      <td>Sports</td>\n",
       "      <td>41.36</td>\n",
       "      <td>28.96</td>\n",
       "      <td>3.77</td>\n",
       "      <td>8.45</td>\n",
       "      <td>76.0</td>\n",
       "      <td>8</td>\n",
       "      <td>E</td>\n",
       "    </tr>\n",
       "    <tr>\n",
       "      <th>1</th>\n",
       "      <td>Super Mario Bros.</td>\n",
       "      <td>NES</td>\n",
       "      <td>1985.0</td>\n",
       "      <td>Platform</td>\n",
       "      <td>29.08</td>\n",
       "      <td>3.58</td>\n",
       "      <td>6.81</td>\n",
       "      <td>0.77</td>\n",
       "      <td>NaN</td>\n",
       "      <td>NaN</td>\n",
       "      <td>NaN</td>\n",
       "    </tr>\n",
       "    <tr>\n",
       "      <th>2</th>\n",
       "      <td>Mario Kart Wii</td>\n",
       "      <td>Wii</td>\n",
       "      <td>2008.0</td>\n",
       "      <td>Racing</td>\n",
       "      <td>15.68</td>\n",
       "      <td>12.76</td>\n",
       "      <td>3.79</td>\n",
       "      <td>3.29</td>\n",
       "      <td>82.0</td>\n",
       "      <td>8.3</td>\n",
       "      <td>E</td>\n",
       "    </tr>\n",
       "    <tr>\n",
       "      <th>3</th>\n",
       "      <td>Wii Sports Resort</td>\n",
       "      <td>Wii</td>\n",
       "      <td>2009.0</td>\n",
       "      <td>Sports</td>\n",
       "      <td>15.61</td>\n",
       "      <td>10.93</td>\n",
       "      <td>3.28</td>\n",
       "      <td>2.95</td>\n",
       "      <td>80.0</td>\n",
       "      <td>8</td>\n",
       "      <td>E</td>\n",
       "    </tr>\n",
       "    <tr>\n",
       "      <th>4</th>\n",
       "      <td>Pokemon Red/Pokemon Blue</td>\n",
       "      <td>GB</td>\n",
       "      <td>1996.0</td>\n",
       "      <td>Role-Playing</td>\n",
       "      <td>11.27</td>\n",
       "      <td>8.89</td>\n",
       "      <td>10.22</td>\n",
       "      <td>1.00</td>\n",
       "      <td>NaN</td>\n",
       "      <td>NaN</td>\n",
       "      <td>NaN</td>\n",
       "    </tr>\n",
       "  </tbody>\n",
       "</table>\n",
       "</div>"
      ],
      "text/plain": [
       "                       Name Platform  Year_of_Release         Genre  NA_sales  \\\n",
       "0                Wii Sports      Wii           2006.0        Sports     41.36   \n",
       "1         Super Mario Bros.      NES           1985.0      Platform     29.08   \n",
       "2            Mario Kart Wii      Wii           2008.0        Racing     15.68   \n",
       "3         Wii Sports Resort      Wii           2009.0        Sports     15.61   \n",
       "4  Pokemon Red/Pokemon Blue       GB           1996.0  Role-Playing     11.27   \n",
       "\n",
       "   EU_sales  JP_sales  Other_sales  Critic_Score User_Score Rating  \n",
       "0     28.96      3.77         8.45          76.0          8      E  \n",
       "1      3.58      6.81         0.77           NaN        NaN    NaN  \n",
       "2     12.76      3.79         3.29          82.0        8.3      E  \n",
       "3     10.93      3.28         2.95          80.0          8      E  \n",
       "4      8.89     10.22         1.00           NaN        NaN    NaN  "
      ]
     },
     "execution_count": 3,
     "metadata": {},
     "output_type": "execute_result"
    }
   ],
   "source": [
    "games.head()"
   ]
  },
  {
   "cell_type": "code",
   "execution_count": 4,
   "id": "bd2d7cb7-c45e-4495-9c02-3ceb0658ef94",
   "metadata": {},
   "outputs": [
    {
     "data": {
      "text/html": [
       "<div>\n",
       "<style scoped>\n",
       "    .dataframe tbody tr th:only-of-type {\n",
       "        vertical-align: middle;\n",
       "    }\n",
       "\n",
       "    .dataframe tbody tr th {\n",
       "        vertical-align: top;\n",
       "    }\n",
       "\n",
       "    .dataframe thead th {\n",
       "        text-align: right;\n",
       "    }\n",
       "</style>\n",
       "<table border=\"1\" class=\"dataframe\">\n",
       "  <thead>\n",
       "    <tr style=\"text-align: right;\">\n",
       "      <th></th>\n",
       "      <th>Name</th>\n",
       "      <th>Platform</th>\n",
       "      <th>Year_of_Release</th>\n",
       "      <th>Genre</th>\n",
       "      <th>NA_sales</th>\n",
       "      <th>EU_sales</th>\n",
       "      <th>JP_sales</th>\n",
       "      <th>Other_sales</th>\n",
       "      <th>Critic_Score</th>\n",
       "      <th>User_Score</th>\n",
       "      <th>Rating</th>\n",
       "    </tr>\n",
       "  </thead>\n",
       "  <tbody>\n",
       "    <tr>\n",
       "      <th>16710</th>\n",
       "      <td>Samurai Warriors: Sanada Maru</td>\n",
       "      <td>PS3</td>\n",
       "      <td>2016.0</td>\n",
       "      <td>Action</td>\n",
       "      <td>0.00</td>\n",
       "      <td>0.00</td>\n",
       "      <td>0.01</td>\n",
       "      <td>0.0</td>\n",
       "      <td>NaN</td>\n",
       "      <td>NaN</td>\n",
       "      <td>NaN</td>\n",
       "    </tr>\n",
       "    <tr>\n",
       "      <th>16711</th>\n",
       "      <td>LMA Manager 2007</td>\n",
       "      <td>X360</td>\n",
       "      <td>2006.0</td>\n",
       "      <td>Sports</td>\n",
       "      <td>0.00</td>\n",
       "      <td>0.01</td>\n",
       "      <td>0.00</td>\n",
       "      <td>0.0</td>\n",
       "      <td>NaN</td>\n",
       "      <td>NaN</td>\n",
       "      <td>NaN</td>\n",
       "    </tr>\n",
       "    <tr>\n",
       "      <th>16712</th>\n",
       "      <td>Haitaka no Psychedelica</td>\n",
       "      <td>PSV</td>\n",
       "      <td>2016.0</td>\n",
       "      <td>Adventure</td>\n",
       "      <td>0.00</td>\n",
       "      <td>0.00</td>\n",
       "      <td>0.01</td>\n",
       "      <td>0.0</td>\n",
       "      <td>NaN</td>\n",
       "      <td>NaN</td>\n",
       "      <td>NaN</td>\n",
       "    </tr>\n",
       "    <tr>\n",
       "      <th>16713</th>\n",
       "      <td>Spirits &amp; Spells</td>\n",
       "      <td>GBA</td>\n",
       "      <td>2003.0</td>\n",
       "      <td>Platform</td>\n",
       "      <td>0.01</td>\n",
       "      <td>0.00</td>\n",
       "      <td>0.00</td>\n",
       "      <td>0.0</td>\n",
       "      <td>NaN</td>\n",
       "      <td>NaN</td>\n",
       "      <td>NaN</td>\n",
       "    </tr>\n",
       "    <tr>\n",
       "      <th>16714</th>\n",
       "      <td>Winning Post 8 2016</td>\n",
       "      <td>PSV</td>\n",
       "      <td>2016.0</td>\n",
       "      <td>Simulation</td>\n",
       "      <td>0.00</td>\n",
       "      <td>0.00</td>\n",
       "      <td>0.01</td>\n",
       "      <td>0.0</td>\n",
       "      <td>NaN</td>\n",
       "      <td>NaN</td>\n",
       "      <td>NaN</td>\n",
       "    </tr>\n",
       "  </tbody>\n",
       "</table>\n",
       "</div>"
      ],
      "text/plain": [
       "                                Name Platform  Year_of_Release       Genre  \\\n",
       "16710  Samurai Warriors: Sanada Maru      PS3           2016.0      Action   \n",
       "16711               LMA Manager 2007     X360           2006.0      Sports   \n",
       "16712        Haitaka no Psychedelica      PSV           2016.0   Adventure   \n",
       "16713               Spirits & Spells      GBA           2003.0    Platform   \n",
       "16714            Winning Post 8 2016      PSV           2016.0  Simulation   \n",
       "\n",
       "       NA_sales  EU_sales  JP_sales  Other_sales  Critic_Score User_Score  \\\n",
       "16710      0.00      0.00      0.01          0.0           NaN        NaN   \n",
       "16711      0.00      0.01      0.00          0.0           NaN        NaN   \n",
       "16712      0.00      0.00      0.01          0.0           NaN        NaN   \n",
       "16713      0.01      0.00      0.00          0.0           NaN        NaN   \n",
       "16714      0.00      0.00      0.01          0.0           NaN        NaN   \n",
       "\n",
       "      Rating  \n",
       "16710    NaN  \n",
       "16711    NaN  \n",
       "16712    NaN  \n",
       "16713    NaN  \n",
       "16714    NaN  "
      ]
     },
     "execution_count": 4,
     "metadata": {},
     "output_type": "execute_result"
    }
   ],
   "source": [
    "games.tail()"
   ]
  },
  {
   "cell_type": "code",
   "execution_count": 5,
   "id": "8ba4de89-afa2-478c-a137-afa94ad8d7e2",
   "metadata": {},
   "outputs": [
    {
     "name": "stdout",
     "output_type": "stream",
     "text": [
      "<class 'pandas.core.frame.DataFrame'>\n",
      "RangeIndex: 16715 entries, 0 to 16714\n",
      "Data columns (total 11 columns):\n",
      " #   Column           Non-Null Count  Dtype  \n",
      "---  ------           --------------  -----  \n",
      " 0   Name             16713 non-null  object \n",
      " 1   Platform         16715 non-null  object \n",
      " 2   Year_of_Release  16446 non-null  float64\n",
      " 3   Genre            16713 non-null  object \n",
      " 4   NA_sales         16715 non-null  float64\n",
      " 5   EU_sales         16715 non-null  float64\n",
      " 6   JP_sales         16715 non-null  float64\n",
      " 7   Other_sales      16715 non-null  float64\n",
      " 8   Critic_Score     8137 non-null   float64\n",
      " 9   User_Score       10014 non-null  object \n",
      " 10  Rating           9949 non-null   object \n",
      "dtypes: float64(6), object(5)\n",
      "memory usage: 1.4+ MB\n"
     ]
    }
   ],
   "source": [
    "games.info()"
   ]
  },
  {
   "cell_type": "code",
   "execution_count": 6,
   "id": "37319a9b-f266-457b-a9fb-b8dd0efb42e4",
   "metadata": {},
   "outputs": [
    {
     "data": {
      "text/plain": [
       "Index(['Name', 'Platform', 'Year_of_Release', 'Genre', 'NA_sales', 'EU_sales',\n",
       "       'JP_sales', 'Other_sales', 'Critic_Score', 'User_Score', 'Rating'],\n",
       "      dtype='object')"
      ]
     },
     "execution_count": 6,
     "metadata": {},
     "output_type": "execute_result"
    }
   ],
   "source": [
    "games.columns"
   ]
  },
  {
   "cell_type": "markdown",
   "id": "4e9bc998-b198-4e75-bd15-78ca3e8bdadf",
   "metadata": {},
   "source": [
    "Problemas encontrados nos dados:\n",
    "- Necessario modificar o nome das colunas, colocar em letra minúscula todos os nomes.\n",
    "\n",
    "- As colunas `user_score` está com o tipo de dados incorreto. `user_score` está como *object*, o tipo correto é  *float*.\n",
    "\n",
    "- As colunas `name`, `year_of_release`, `genre`, `critic_score`, `user_score` e `rating` possuem valores ausentes. Deve ser investigado o motivo."
   ]
  },
  {
   "cell_type": "markdown",
   "id": "c8622cfb-9507-4f4d-b265-2c722371ccdb",
   "metadata": {
    "tags": []
   },
   "source": [
    "### Correção do nome das colunas :"
   ]
  },
  {
   "cell_type": "code",
   "execution_count": 7,
   "id": "16b80ccf-6113-4cb5-a1bb-7e4f4feb7aeb",
   "metadata": {},
   "outputs": [
    {
     "data": {
      "text/plain": [
       "Index(['name', 'platform', 'year_of_release', 'genre', 'na_sales', 'eu_sales',\n",
       "       'jp_sales', 'other_sales', 'critic_score', 'user_score', 'rating'],\n",
       "      dtype='object')"
      ]
     },
     "execution_count": 7,
     "metadata": {},
     "output_type": "execute_result"
    }
   ],
   "source": [
    "games.columns = games.columns.str.lower()\n",
    "games.columns"
   ]
  },
  {
   "cell_type": "markdown",
   "id": "d6fa1bdb-52fd-4537-9725-17b4b2479898",
   "metadata": {
    "tags": []
   },
   "source": [
    "### Converção da coluna `user_score` em *float* :"
   ]
  },
  {
   "cell_type": "code",
   "execution_count": 8,
   "id": "e3096b35-0f90-4f79-8040-985e8f4c9056",
   "metadata": {},
   "outputs": [
    {
     "data": {
      "text/plain": [
       "name                object\n",
       "platform            object\n",
       "year_of_release    float64\n",
       "genre               object\n",
       "na_sales           float64\n",
       "eu_sales           float64\n",
       "jp_sales           float64\n",
       "other_sales        float64\n",
       "critic_score       float64\n",
       "user_score          object\n",
       "rating              object\n",
       "dtype: object"
      ]
     },
     "execution_count": 8,
     "metadata": {},
     "output_type": "execute_result"
    }
   ],
   "source": [
    "games.dtypes"
   ]
  },
  {
   "cell_type": "code",
   "execution_count": 9,
   "id": "a564d028-12a3-4945-910b-942b634229c1",
   "metadata": {},
   "outputs": [
    {
     "data": {
      "text/plain": [
       "tbd    0.242061\n",
       "7.8    0.032355\n",
       "8      0.028959\n",
       "8.2    0.028161\n",
       "8.3    0.025364\n",
       "         ...   \n",
       "0.7    0.000200\n",
       "1      0.000200\n",
       "9.6    0.000200\n",
       "9.7    0.000100\n",
       "0      0.000100\n",
       "Name: user_score, Length: 96, dtype: float64"
      ]
     },
     "execution_count": 9,
     "metadata": {},
     "output_type": "execute_result"
    }
   ],
   "source": [
    "games['user_score'].value_counts(normalize=True)"
   ]
  },
  {
   "cell_type": "markdown",
   "id": "2c57bdbe-6594-4089-bf7d-6bddbcfcc6d8",
   "metadata": {},
   "source": [
    "A coluna `user_score` está como *object*, possui 24,20% dos valores como *tbd* (pontuação da usuário a ser determinada). \n",
    "\n",
    "Para converter o tipo dessa coluna é necessário retirar o *tbd*, sendo assim, foi decidido pela criação de uma nova coluna booleana `tbd_score`( 1 sendo *tbd*, 0 não sendo *tbd*) para armazenar o *tbd* na tabela, que será excluído da coluna `user_score`."
   ]
  },
  {
   "cell_type": "code",
   "execution_count": 10,
   "id": "9c4746ae-6849-4588-96a6-817aa4537007",
   "metadata": {},
   "outputs": [],
   "source": [
    "games['tbd_score'] = np.where(games['user_score'] != 'tbd', 0, 1)"
   ]
  },
  {
   "cell_type": "code",
   "execution_count": 11,
   "id": "6f92986c-c721-4de6-9b5d-c2da15908fb7",
   "metadata": {},
   "outputs": [
    {
     "data": {
      "text/html": [
       "<div>\n",
       "<style scoped>\n",
       "    .dataframe tbody tr th:only-of-type {\n",
       "        vertical-align: middle;\n",
       "    }\n",
       "\n",
       "    .dataframe tbody tr th {\n",
       "        vertical-align: top;\n",
       "    }\n",
       "\n",
       "    .dataframe thead th {\n",
       "        text-align: right;\n",
       "    }\n",
       "</style>\n",
       "<table border=\"1\" class=\"dataframe\">\n",
       "  <thead>\n",
       "    <tr style=\"text-align: right;\">\n",
       "      <th></th>\n",
       "      <th>name</th>\n",
       "      <th>platform</th>\n",
       "      <th>year_of_release</th>\n",
       "      <th>genre</th>\n",
       "      <th>na_sales</th>\n",
       "      <th>eu_sales</th>\n",
       "      <th>jp_sales</th>\n",
       "      <th>other_sales</th>\n",
       "      <th>critic_score</th>\n",
       "      <th>user_score</th>\n",
       "      <th>rating</th>\n",
       "      <th>tbd_score</th>\n",
       "    </tr>\n",
       "  </thead>\n",
       "  <tbody>\n",
       "    <tr>\n",
       "      <th>119</th>\n",
       "      <td>Zumba Fitness</td>\n",
       "      <td>Wii</td>\n",
       "      <td>2010.0</td>\n",
       "      <td>Sports</td>\n",
       "      <td>3.45</td>\n",
       "      <td>2.59</td>\n",
       "      <td>0.00</td>\n",
       "      <td>0.66</td>\n",
       "      <td>NaN</td>\n",
       "      <td>tbd</td>\n",
       "      <td>E</td>\n",
       "      <td>1</td>\n",
       "    </tr>\n",
       "    <tr>\n",
       "      <th>301</th>\n",
       "      <td>Namco Museum: 50th Anniversary</td>\n",
       "      <td>PS2</td>\n",
       "      <td>2005.0</td>\n",
       "      <td>Misc</td>\n",
       "      <td>2.08</td>\n",
       "      <td>1.35</td>\n",
       "      <td>0.00</td>\n",
       "      <td>0.54</td>\n",
       "      <td>61.0</td>\n",
       "      <td>tbd</td>\n",
       "      <td>E10+</td>\n",
       "      <td>1</td>\n",
       "    </tr>\n",
       "    <tr>\n",
       "      <th>520</th>\n",
       "      <td>Zumba Fitness 2</td>\n",
       "      <td>Wii</td>\n",
       "      <td>2011.0</td>\n",
       "      <td>Sports</td>\n",
       "      <td>1.51</td>\n",
       "      <td>1.03</td>\n",
       "      <td>0.00</td>\n",
       "      <td>0.27</td>\n",
       "      <td>NaN</td>\n",
       "      <td>tbd</td>\n",
       "      <td>T</td>\n",
       "      <td>1</td>\n",
       "    </tr>\n",
       "    <tr>\n",
       "      <th>645</th>\n",
       "      <td>uDraw Studio</td>\n",
       "      <td>Wii</td>\n",
       "      <td>2010.0</td>\n",
       "      <td>Misc</td>\n",
       "      <td>1.65</td>\n",
       "      <td>0.57</td>\n",
       "      <td>0.00</td>\n",
       "      <td>0.20</td>\n",
       "      <td>71.0</td>\n",
       "      <td>tbd</td>\n",
       "      <td>E</td>\n",
       "      <td>1</td>\n",
       "    </tr>\n",
       "    <tr>\n",
       "      <th>657</th>\n",
       "      <td>Frogger's Adventures: Temple of the Frog</td>\n",
       "      <td>GBA</td>\n",
       "      <td>NaN</td>\n",
       "      <td>Adventure</td>\n",
       "      <td>2.15</td>\n",
       "      <td>0.18</td>\n",
       "      <td>0.00</td>\n",
       "      <td>0.07</td>\n",
       "      <td>73.0</td>\n",
       "      <td>tbd</td>\n",
       "      <td>E</td>\n",
       "      <td>1</td>\n",
       "    </tr>\n",
       "    <tr>\n",
       "      <th>718</th>\n",
       "      <td>Just Dance Kids</td>\n",
       "      <td>Wii</td>\n",
       "      <td>2010.0</td>\n",
       "      <td>Misc</td>\n",
       "      <td>1.52</td>\n",
       "      <td>0.54</td>\n",
       "      <td>0.00</td>\n",
       "      <td>0.18</td>\n",
       "      <td>NaN</td>\n",
       "      <td>tbd</td>\n",
       "      <td>E</td>\n",
       "      <td>1</td>\n",
       "    </tr>\n",
       "    <tr>\n",
       "      <th>726</th>\n",
       "      <td>Dance Dance Revolution X2</td>\n",
       "      <td>PS2</td>\n",
       "      <td>2009.0</td>\n",
       "      <td>Simulation</td>\n",
       "      <td>1.09</td>\n",
       "      <td>0.85</td>\n",
       "      <td>0.00</td>\n",
       "      <td>0.28</td>\n",
       "      <td>NaN</td>\n",
       "      <td>tbd</td>\n",
       "      <td>E10+</td>\n",
       "      <td>1</td>\n",
       "    </tr>\n",
       "    <tr>\n",
       "      <th>821</th>\n",
       "      <td>The Incredibles</td>\n",
       "      <td>GBA</td>\n",
       "      <td>2004.0</td>\n",
       "      <td>Action</td>\n",
       "      <td>1.15</td>\n",
       "      <td>0.77</td>\n",
       "      <td>0.04</td>\n",
       "      <td>0.10</td>\n",
       "      <td>55.0</td>\n",
       "      <td>tbd</td>\n",
       "      <td>E</td>\n",
       "      <td>1</td>\n",
       "    </tr>\n",
       "    <tr>\n",
       "      <th>881</th>\n",
       "      <td>Who wants to be a millionaire</td>\n",
       "      <td>PC</td>\n",
       "      <td>1999.0</td>\n",
       "      <td>Misc</td>\n",
       "      <td>1.94</td>\n",
       "      <td>0.00</td>\n",
       "      <td>0.00</td>\n",
       "      <td>0.00</td>\n",
       "      <td>NaN</td>\n",
       "      <td>tbd</td>\n",
       "      <td>E</td>\n",
       "      <td>1</td>\n",
       "    </tr>\n",
       "    <tr>\n",
       "      <th>1047</th>\n",
       "      <td>Tetris Worlds</td>\n",
       "      <td>GBA</td>\n",
       "      <td>2001.0</td>\n",
       "      <td>Puzzle</td>\n",
       "      <td>1.25</td>\n",
       "      <td>0.39</td>\n",
       "      <td>0.00</td>\n",
       "      <td>0.06</td>\n",
       "      <td>65.0</td>\n",
       "      <td>tbd</td>\n",
       "      <td>E</td>\n",
       "      <td>1</td>\n",
       "    </tr>\n",
       "  </tbody>\n",
       "</table>\n",
       "</div>"
      ],
      "text/plain": [
       "                                          name platform  year_of_release  \\\n",
       "119                              Zumba Fitness      Wii           2010.0   \n",
       "301             Namco Museum: 50th Anniversary      PS2           2005.0   \n",
       "520                            Zumba Fitness 2      Wii           2011.0   \n",
       "645                               uDraw Studio      Wii           2010.0   \n",
       "657   Frogger's Adventures: Temple of the Frog      GBA              NaN   \n",
       "718                            Just Dance Kids      Wii           2010.0   \n",
       "726                  Dance Dance Revolution X2      PS2           2009.0   \n",
       "821                            The Incredibles      GBA           2004.0   \n",
       "881              Who wants to be a millionaire       PC           1999.0   \n",
       "1047                             Tetris Worlds      GBA           2001.0   \n",
       "\n",
       "           genre  na_sales  eu_sales  jp_sales  other_sales  critic_score  \\\n",
       "119       Sports      3.45      2.59      0.00         0.66           NaN   \n",
       "301         Misc      2.08      1.35      0.00         0.54          61.0   \n",
       "520       Sports      1.51      1.03      0.00         0.27           NaN   \n",
       "645         Misc      1.65      0.57      0.00         0.20          71.0   \n",
       "657    Adventure      2.15      0.18      0.00         0.07          73.0   \n",
       "718         Misc      1.52      0.54      0.00         0.18           NaN   \n",
       "726   Simulation      1.09      0.85      0.00         0.28           NaN   \n",
       "821       Action      1.15      0.77      0.04         0.10          55.0   \n",
       "881         Misc      1.94      0.00      0.00         0.00           NaN   \n",
       "1047      Puzzle      1.25      0.39      0.00         0.06          65.0   \n",
       "\n",
       "     user_score rating  tbd_score  \n",
       "119         tbd      E          1  \n",
       "301         tbd   E10+          1  \n",
       "520         tbd      T          1  \n",
       "645         tbd      E          1  \n",
       "657         tbd      E          1  \n",
       "718         tbd      E          1  \n",
       "726         tbd   E10+          1  \n",
       "821         tbd      E          1  \n",
       "881         tbd      E          1  \n",
       "1047        tbd      E          1  "
      ]
     },
     "execution_count": 11,
     "metadata": {},
     "output_type": "execute_result"
    }
   ],
   "source": [
    "games.query('user_score == \"tbd\"').head(10)"
   ]
  },
  {
   "cell_type": "markdown",
   "id": "d82b6934-0320-4e59-8334-96f998f4705e",
   "metadata": {},
   "source": [
    "As variáveis que possuirem *tbd*(pontuação a ser determinada) na coluna `user_score` terão o valor igualado a *nan*, por não haver informações adicionais de para tratá-lo os valores podem ser considerados ausentes. A informação ficará salva na coluna `tbd_score`\n",
    "\n",
    "A coluna `user_score` vai ser convertida em *float*, com os valores *tbd* transformados em *nan*."
   ]
  },
  {
   "cell_type": "code",
   "execution_count": 12,
   "id": "af76f058-0ccb-4f7a-8bc9-a9a55f477307",
   "metadata": {},
   "outputs": [],
   "source": [
    "games['user_score']= pd.to_numeric(games['user_score'], errors='coerce')"
   ]
  },
  {
   "cell_type": "code",
   "execution_count": 13,
   "id": "2a03a652-b92c-4ccd-b1ec-4c2c5a334f27",
   "metadata": {},
   "outputs": [
    {
     "data": {
      "text/plain": [
       "7.8    324\n",
       "8.0    290\n",
       "8.2    282\n",
       "8.3    254\n",
       "8.5    253\n",
       "      ... \n",
       "0.9      2\n",
       "1.9      2\n",
       "1.3      2\n",
       "9.7      1\n",
       "0.0      1\n",
       "Name: user_score, Length: 95, dtype: int64"
      ]
     },
     "execution_count": 13,
     "metadata": {},
     "output_type": "execute_result"
    }
   ],
   "source": [
    "games['user_score'].value_counts()"
   ]
  },
  {
   "cell_type": "code",
   "execution_count": 14,
   "id": "77ac98f5-d854-4e41-aa01-49df630e6d02",
   "metadata": {},
   "outputs": [
    {
     "data": {
      "text/html": [
       "<div>\n",
       "<style scoped>\n",
       "    .dataframe tbody tr th:only-of-type {\n",
       "        vertical-align: middle;\n",
       "    }\n",
       "\n",
       "    .dataframe tbody tr th {\n",
       "        vertical-align: top;\n",
       "    }\n",
       "\n",
       "    .dataframe thead th {\n",
       "        text-align: right;\n",
       "    }\n",
       "</style>\n",
       "<table border=\"1\" class=\"dataframe\">\n",
       "  <thead>\n",
       "    <tr style=\"text-align: right;\">\n",
       "      <th></th>\n",
       "      <th>name</th>\n",
       "      <th>platform</th>\n",
       "      <th>year_of_release</th>\n",
       "      <th>genre</th>\n",
       "      <th>na_sales</th>\n",
       "      <th>eu_sales</th>\n",
       "      <th>jp_sales</th>\n",
       "      <th>other_sales</th>\n",
       "      <th>critic_score</th>\n",
       "      <th>user_score</th>\n",
       "      <th>rating</th>\n",
       "      <th>tbd_score</th>\n",
       "    </tr>\n",
       "  </thead>\n",
       "  <tbody>\n",
       "    <tr>\n",
       "      <th>119</th>\n",
       "      <td>Zumba Fitness</td>\n",
       "      <td>Wii</td>\n",
       "      <td>2010.0</td>\n",
       "      <td>Sports</td>\n",
       "      <td>3.45</td>\n",
       "      <td>2.59</td>\n",
       "      <td>0.0</td>\n",
       "      <td>0.66</td>\n",
       "      <td>NaN</td>\n",
       "      <td>NaN</td>\n",
       "      <td>E</td>\n",
       "      <td>1</td>\n",
       "    </tr>\n",
       "    <tr>\n",
       "      <th>301</th>\n",
       "      <td>Namco Museum: 50th Anniversary</td>\n",
       "      <td>PS2</td>\n",
       "      <td>2005.0</td>\n",
       "      <td>Misc</td>\n",
       "      <td>2.08</td>\n",
       "      <td>1.35</td>\n",
       "      <td>0.0</td>\n",
       "      <td>0.54</td>\n",
       "      <td>61.0</td>\n",
       "      <td>NaN</td>\n",
       "      <td>E10+</td>\n",
       "      <td>1</td>\n",
       "    </tr>\n",
       "    <tr>\n",
       "      <th>520</th>\n",
       "      <td>Zumba Fitness 2</td>\n",
       "      <td>Wii</td>\n",
       "      <td>2011.0</td>\n",
       "      <td>Sports</td>\n",
       "      <td>1.51</td>\n",
       "      <td>1.03</td>\n",
       "      <td>0.0</td>\n",
       "      <td>0.27</td>\n",
       "      <td>NaN</td>\n",
       "      <td>NaN</td>\n",
       "      <td>T</td>\n",
       "      <td>1</td>\n",
       "    </tr>\n",
       "    <tr>\n",
       "      <th>645</th>\n",
       "      <td>uDraw Studio</td>\n",
       "      <td>Wii</td>\n",
       "      <td>2010.0</td>\n",
       "      <td>Misc</td>\n",
       "      <td>1.65</td>\n",
       "      <td>0.57</td>\n",
       "      <td>0.0</td>\n",
       "      <td>0.20</td>\n",
       "      <td>71.0</td>\n",
       "      <td>NaN</td>\n",
       "      <td>E</td>\n",
       "      <td>1</td>\n",
       "    </tr>\n",
       "    <tr>\n",
       "      <th>657</th>\n",
       "      <td>Frogger's Adventures: Temple of the Frog</td>\n",
       "      <td>GBA</td>\n",
       "      <td>NaN</td>\n",
       "      <td>Adventure</td>\n",
       "      <td>2.15</td>\n",
       "      <td>0.18</td>\n",
       "      <td>0.0</td>\n",
       "      <td>0.07</td>\n",
       "      <td>73.0</td>\n",
       "      <td>NaN</td>\n",
       "      <td>E</td>\n",
       "      <td>1</td>\n",
       "    </tr>\n",
       "  </tbody>\n",
       "</table>\n",
       "</div>"
      ],
      "text/plain": [
       "                                         name platform  year_of_release  \\\n",
       "119                             Zumba Fitness      Wii           2010.0   \n",
       "301            Namco Museum: 50th Anniversary      PS2           2005.0   \n",
       "520                           Zumba Fitness 2      Wii           2011.0   \n",
       "645                              uDraw Studio      Wii           2010.0   \n",
       "657  Frogger's Adventures: Temple of the Frog      GBA              NaN   \n",
       "\n",
       "         genre  na_sales  eu_sales  jp_sales  other_sales  critic_score  \\\n",
       "119     Sports      3.45      2.59       0.0         0.66           NaN   \n",
       "301       Misc      2.08      1.35       0.0         0.54          61.0   \n",
       "520     Sports      1.51      1.03       0.0         0.27           NaN   \n",
       "645       Misc      1.65      0.57       0.0         0.20          71.0   \n",
       "657  Adventure      2.15      0.18       0.0         0.07          73.0   \n",
       "\n",
       "     user_score rating  tbd_score  \n",
       "119         NaN      E          1  \n",
       "301         NaN   E10+          1  \n",
       "520         NaN      T          1  \n",
       "645         NaN      E          1  \n",
       "657         NaN      E          1  "
      ]
     },
     "execution_count": 14,
     "metadata": {},
     "output_type": "execute_result"
    }
   ],
   "source": [
    "games.query('tbd_score == 1').head()"
   ]
  },
  {
   "cell_type": "code",
   "execution_count": 15,
   "id": "eed267d4-d733-4199-be6c-9c6e53fb37f9",
   "metadata": {},
   "outputs": [
    {
     "data": {
      "text/plain": [
       "name                object\n",
       "platform            object\n",
       "year_of_release    float64\n",
       "genre               object\n",
       "na_sales           float64\n",
       "eu_sales           float64\n",
       "jp_sales           float64\n",
       "other_sales        float64\n",
       "critic_score       float64\n",
       "user_score         float64\n",
       "rating              object\n",
       "tbd_score            int64\n",
       "dtype: object"
      ]
     },
     "execution_count": 15,
     "metadata": {},
     "output_type": "execute_result"
    }
   ],
   "source": [
    "games.dtypes"
   ]
  },
  {
   "cell_type": "markdown",
   "id": "d24b6130-ac90-44dd-8630-123382249df8",
   "metadata": {},
   "source": [
    "Coluna `user_score` convertida."
   ]
  },
  {
   "cell_type": "markdown",
   "id": "f4e72a5f-2060-4214-91d1-80869c7f6d30",
   "metadata": {
    "tags": []
   },
   "source": [
    "### Identificação de os valores ausentes possuem razão:"
   ]
  },
  {
   "cell_type": "code",
   "execution_count": 16,
   "id": "4516b1cb-f1bb-4975-80d8-beba37ca6742",
   "metadata": {},
   "outputs": [
    {
     "name": "stdout",
     "output_type": "stream",
     "text": [
      "<class 'pandas.core.frame.DataFrame'>\n",
      "RangeIndex: 16715 entries, 0 to 16714\n",
      "Data columns (total 12 columns):\n",
      " #   Column           Non-Null Count  Dtype  \n",
      "---  ------           --------------  -----  \n",
      " 0   name             16713 non-null  object \n",
      " 1   platform         16715 non-null  object \n",
      " 2   year_of_release  16446 non-null  float64\n",
      " 3   genre            16713 non-null  object \n",
      " 4   na_sales         16715 non-null  float64\n",
      " 5   eu_sales         16715 non-null  float64\n",
      " 6   jp_sales         16715 non-null  float64\n",
      " 7   other_sales      16715 non-null  float64\n",
      " 8   critic_score     8137 non-null   float64\n",
      " 9   user_score       7590 non-null   float64\n",
      " 10  rating           9949 non-null   object \n",
      " 11  tbd_score        16715 non-null  int64  \n",
      "dtypes: float64(7), int64(1), object(4)\n",
      "memory usage: 1.5+ MB\n"
     ]
    }
   ],
   "source": [
    "games.info()"
   ]
  },
  {
   "cell_type": "code",
   "execution_count": 17,
   "id": "b4a78b68-054d-4f0a-836b-76a0a34c98d7",
   "metadata": {},
   "outputs": [
    {
     "data": {
      "text/plain": [
       "name                  2\n",
       "platform              0\n",
       "year_of_release     269\n",
       "genre                 2\n",
       "na_sales              0\n",
       "eu_sales              0\n",
       "jp_sales              0\n",
       "other_sales           0\n",
       "critic_score       8578\n",
       "user_score         9125\n",
       "rating             6766\n",
       "tbd_score             0\n",
       "dtype: int64"
      ]
     },
     "execution_count": 17,
     "metadata": {},
     "output_type": "execute_result"
    }
   ],
   "source": [
    "games.isna().sum()"
   ]
  },
  {
   "cell_type": "code",
   "execution_count": 18,
   "id": "e2059ecd-6b23-4941-9fdb-050a1e073e46",
   "metadata": {},
   "outputs": [
    {
     "data": {
      "text/plain": [
       "name               0.000120\n",
       "platform           0.000000\n",
       "year_of_release    0.016093\n",
       "genre              0.000120\n",
       "na_sales           0.000000\n",
       "eu_sales           0.000000\n",
       "jp_sales           0.000000\n",
       "other_sales        0.000000\n",
       "critic_score       0.513192\n",
       "user_score         0.545917\n",
       "rating             0.404786\n",
       "tbd_score          0.000000\n",
       "dtype: float64"
      ]
     },
     "execution_count": 18,
     "metadata": {},
     "output_type": "execute_result"
    }
   ],
   "source": [
    "games.isna().sum() / len(games)"
   ]
  },
  {
   "cell_type": "markdown",
   "id": "1f38fda3-5c28-4184-82c8-0cc4dcb18741",
   "metadata": {},
   "source": [
    "Existem valores ausentes nas colunas `name`, `year_of_release`, `genre`, `critic_score`, `user_score` e `rating`.\n",
    "\n",
    "Na coluna `critic_score` e `user_score` os valores ausentes representa 50% dos dados, enquanto na coluna `rating` representam 40%. Essas colunas serão investigadas para entender o motivo da ausência e a possibilidade dessas colunas serem retiradas. \n",
    "\n",
    "Nas outras colunas com valores ausentes, eles não representam mais do que 1%, então essas linhas serão deletadas."
   ]
  },
  {
   "cell_type": "code",
   "execution_count": 19,
   "id": "ea61af2d-af0e-4538-9dbc-e523bd2a2f36",
   "metadata": {},
   "outputs": [],
   "source": [
    "games = games.dropna(subset=['name','year_of_release','genre']).reset_index(drop=True)"
   ]
  },
  {
   "cell_type": "code",
   "execution_count": 20,
   "id": "a8cb91d5-1d4e-45e1-9cc3-34cf5cffaafc",
   "metadata": {},
   "outputs": [
    {
     "data": {
      "text/plain": [
       "name               0.000000\n",
       "platform           0.000000\n",
       "year_of_release    0.000000\n",
       "genre              0.000000\n",
       "na_sales           0.000000\n",
       "eu_sales           0.000000\n",
       "jp_sales           0.000000\n",
       "other_sales        0.000000\n",
       "critic_score       0.514534\n",
       "user_score         0.546157\n",
       "rating             0.405984\n",
       "tbd_score          0.000000\n",
       "dtype: float64"
      ]
     },
     "execution_count": 20,
     "metadata": {},
     "output_type": "execute_result"
    }
   ],
   "source": [
    "games.isna().sum() / len(games)"
   ]
  },
  {
   "cell_type": "markdown",
   "id": "18dc7515-a352-43c6-8102-51336157956b",
   "metadata": {},
   "source": [
    "As linhas que possuiam valores ausentes nas colunas `name`, `year_of_release`, `genre` foram deletadas."
   ]
  },
  {
   "cell_type": "code",
   "execution_count": 21,
   "id": "e6bbc8ab-ad30-4278-9c50-c40b40d1052b",
   "metadata": {},
   "outputs": [
    {
     "data": {
      "text/plain": [
       "6580"
      ]
     },
     "execution_count": 21,
     "metadata": {},
     "output_type": "execute_result"
    }
   ],
   "source": [
    "len(games.query('user_score.isna() and critic_score.isna() and rating.isna()'))"
   ]
  },
  {
   "cell_type": "markdown",
   "id": "0f896c61-6f85-4c35-82cd-0c4543269452",
   "metadata": {},
   "source": [
    "Os valores ausentes das colunas `critic_score`, `user_score` e `rating` não podem ser preenchidos, por não haver valores na tabela que estajam ligados a eles. Dessa forma, também não é possível identificar a razão deles estarem ausentes.Os linhas com os dados ausentes não serão deletadas por representarem 54% dos do dataframe. Sendo assim, os valores não serão subsitituidos e as linhas não serão deletadas, mas as futuras análises nessas colunas serão limitadas."
   ]
  },
  {
   "cell_type": "markdown",
   "id": "a05bb138-0179-4f6a-a6e5-dc71e2ff2361",
   "metadata": {
    "tags": []
   },
   "source": [
    "### Criação da Coluna `total_sales`:"
   ]
  },
  {
   "cell_type": "markdown",
   "id": "28504fce-7b31-4157-8fd1-5a6904e5cc56",
   "metadata": {},
   "source": [
    "Para futuras análise das vendas em de cada jogo em cada região e o total de vendas, será criada a coluna `total_sales` que possuirá a soma das colunas `na_sales`, `eu_sales`, `jp_sales` e `other_sales`."
   ]
  },
  {
   "cell_type": "code",
   "execution_count": 22,
   "id": "98f816ed-57ce-439f-8c26-3d087c80ab6e",
   "metadata": {},
   "outputs": [],
   "source": [
    "games['total_sales'] = games['na_sales'] +  games['eu_sales'] + games['jp_sales'] + games['other_sales'] "
   ]
  },
  {
   "cell_type": "code",
   "execution_count": 23,
   "id": "1183cc63-6ac2-4dd7-8942-b3eb08fc660d",
   "metadata": {},
   "outputs": [
    {
     "data": {
      "text/html": [
       "<div>\n",
       "<style scoped>\n",
       "    .dataframe tbody tr th:only-of-type {\n",
       "        vertical-align: middle;\n",
       "    }\n",
       "\n",
       "    .dataframe tbody tr th {\n",
       "        vertical-align: top;\n",
       "    }\n",
       "\n",
       "    .dataframe thead th {\n",
       "        text-align: right;\n",
       "    }\n",
       "</style>\n",
       "<table border=\"1\" class=\"dataframe\">\n",
       "  <thead>\n",
       "    <tr style=\"text-align: right;\">\n",
       "      <th></th>\n",
       "      <th>name</th>\n",
       "      <th>platform</th>\n",
       "      <th>year_of_release</th>\n",
       "      <th>genre</th>\n",
       "      <th>na_sales</th>\n",
       "      <th>eu_sales</th>\n",
       "      <th>jp_sales</th>\n",
       "      <th>other_sales</th>\n",
       "      <th>critic_score</th>\n",
       "      <th>user_score</th>\n",
       "      <th>rating</th>\n",
       "      <th>tbd_score</th>\n",
       "      <th>total_sales</th>\n",
       "    </tr>\n",
       "  </thead>\n",
       "  <tbody>\n",
       "    <tr>\n",
       "      <th>0</th>\n",
       "      <td>Wii Sports</td>\n",
       "      <td>Wii</td>\n",
       "      <td>2006.0</td>\n",
       "      <td>Sports</td>\n",
       "      <td>41.36</td>\n",
       "      <td>28.96</td>\n",
       "      <td>3.77</td>\n",
       "      <td>8.45</td>\n",
       "      <td>76.0</td>\n",
       "      <td>8.0</td>\n",
       "      <td>E</td>\n",
       "      <td>0</td>\n",
       "      <td>82.54</td>\n",
       "    </tr>\n",
       "    <tr>\n",
       "      <th>1</th>\n",
       "      <td>Super Mario Bros.</td>\n",
       "      <td>NES</td>\n",
       "      <td>1985.0</td>\n",
       "      <td>Platform</td>\n",
       "      <td>29.08</td>\n",
       "      <td>3.58</td>\n",
       "      <td>6.81</td>\n",
       "      <td>0.77</td>\n",
       "      <td>NaN</td>\n",
       "      <td>NaN</td>\n",
       "      <td>NaN</td>\n",
       "      <td>0</td>\n",
       "      <td>40.24</td>\n",
       "    </tr>\n",
       "    <tr>\n",
       "      <th>2</th>\n",
       "      <td>Mario Kart Wii</td>\n",
       "      <td>Wii</td>\n",
       "      <td>2008.0</td>\n",
       "      <td>Racing</td>\n",
       "      <td>15.68</td>\n",
       "      <td>12.76</td>\n",
       "      <td>3.79</td>\n",
       "      <td>3.29</td>\n",
       "      <td>82.0</td>\n",
       "      <td>8.3</td>\n",
       "      <td>E</td>\n",
       "      <td>0</td>\n",
       "      <td>35.52</td>\n",
       "    </tr>\n",
       "    <tr>\n",
       "      <th>3</th>\n",
       "      <td>Wii Sports Resort</td>\n",
       "      <td>Wii</td>\n",
       "      <td>2009.0</td>\n",
       "      <td>Sports</td>\n",
       "      <td>15.61</td>\n",
       "      <td>10.93</td>\n",
       "      <td>3.28</td>\n",
       "      <td>2.95</td>\n",
       "      <td>80.0</td>\n",
       "      <td>8.0</td>\n",
       "      <td>E</td>\n",
       "      <td>0</td>\n",
       "      <td>32.77</td>\n",
       "    </tr>\n",
       "    <tr>\n",
       "      <th>4</th>\n",
       "      <td>Pokemon Red/Pokemon Blue</td>\n",
       "      <td>GB</td>\n",
       "      <td>1996.0</td>\n",
       "      <td>Role-Playing</td>\n",
       "      <td>11.27</td>\n",
       "      <td>8.89</td>\n",
       "      <td>10.22</td>\n",
       "      <td>1.00</td>\n",
       "      <td>NaN</td>\n",
       "      <td>NaN</td>\n",
       "      <td>NaN</td>\n",
       "      <td>0</td>\n",
       "      <td>31.38</td>\n",
       "    </tr>\n",
       "  </tbody>\n",
       "</table>\n",
       "</div>"
      ],
      "text/plain": [
       "                       name platform  year_of_release         genre  na_sales  \\\n",
       "0                Wii Sports      Wii           2006.0        Sports     41.36   \n",
       "1         Super Mario Bros.      NES           1985.0      Platform     29.08   \n",
       "2            Mario Kart Wii      Wii           2008.0        Racing     15.68   \n",
       "3         Wii Sports Resort      Wii           2009.0        Sports     15.61   \n",
       "4  Pokemon Red/Pokemon Blue       GB           1996.0  Role-Playing     11.27   \n",
       "\n",
       "   eu_sales  jp_sales  other_sales  critic_score  user_score rating  \\\n",
       "0     28.96      3.77         8.45          76.0         8.0      E   \n",
       "1      3.58      6.81         0.77           NaN         NaN    NaN   \n",
       "2     12.76      3.79         3.29          82.0         8.3      E   \n",
       "3     10.93      3.28         2.95          80.0         8.0      E   \n",
       "4      8.89     10.22         1.00           NaN         NaN    NaN   \n",
       "\n",
       "   tbd_score  total_sales  \n",
       "0          0        82.54  \n",
       "1          0        40.24  \n",
       "2          0        35.52  \n",
       "3          0        32.77  \n",
       "4          0        31.38  "
      ]
     },
     "execution_count": 23,
     "metadata": {},
     "output_type": "execute_result"
    }
   ],
   "source": [
    "games.head()"
   ]
  },
  {
   "cell_type": "markdown",
   "id": "4eaa3d69-1213-4a74-8109-3d72e1ea4096",
   "metadata": {
    "tags": []
   },
   "source": [
    "## ANÁLISE DOS DADOS"
   ]
  },
  {
   "cell_type": "markdown",
   "id": "6714b761-edfb-4fb1-9f11-c9a2aa21ba8e",
   "metadata": {
    "tags": []
   },
   "source": [
    "### Tendência de lançamento por ano: "
   ]
  },
  {
   "cell_type": "code",
   "execution_count": 24,
   "id": "0e666299-13f2-4254-af8a-f0abe8dac383",
   "metadata": {},
   "outputs": [
    {
     "data": {
      "image/png": "[encoded data removed]",
      "text/plain": [
       "<Figure size 432x288 with 1 Axes>"
      ]
     },
     "metadata": {
      "needs_background": "light"
     },
     "output_type": "display_data"
    }
   ],
   "source": [
    "games.pivot_table(index='year_of_release',values='name',aggfunc='count').rename(columns={'name':'jogos'}).plot(kind='bar',grid=True)\n",
    "plt.title('Quantidade de jogos lançados por ano')\n",
    "plt.xlabel('Ano de Lançamento')\n",
    "plt.ylabel('Quantidade')\n",
    "plt.show()"
   ]
  },
  {
   "cell_type": "markdown",
   "id": "c9f8f33d-a786-445f-8f6b-8301140ba217",
   "metadata": {},
   "source": [
    "A partir do gráfico é possível identificar uma tendência de alta para o lançamento de jogos a cada ano, com o pico sendo 2008 e 2009, com mais de 1400 jogos lançados em cada ano. A partir de 2010 é vista uma tendência de queda, com 2016 tendo algo entorno de 500 jogos lançados. Essa tendência coincidi com a entrada da nova geração de consoles(PS3, XBOX360, WII) no mercado."
   ]
  },
  {
   "cell_type": "markdown",
   "id": "0bcd8fde-9a07-409d-9460-a06a00655461",
   "metadata": {
    "tags": []
   },
   "source": [
    "### Variação entre as vendas e a plataforma:"
   ]
  },
  {
   "cell_type": "code",
   "execution_count": 25,
   "id": "b17fbc6f-7cbb-4c32-b3c7-17ab612c24fb",
   "metadata": {},
   "outputs": [
    {
     "data": {
      "text/html": [
       "<div>\n",
       "<style scoped>\n",
       "    .dataframe tbody tr th:only-of-type {\n",
       "        vertical-align: middle;\n",
       "    }\n",
       "\n",
       "    .dataframe tbody tr th {\n",
       "        vertical-align: top;\n",
       "    }\n",
       "\n",
       "    .dataframe thead th {\n",
       "        text-align: right;\n",
       "    }\n",
       "</style>\n",
       "<table border=\"1\" class=\"dataframe\">\n",
       "  <thead>\n",
       "    <tr style=\"text-align: right;\">\n",
       "      <th></th>\n",
       "      <th>total_sales</th>\n",
       "    </tr>\n",
       "    <tr>\n",
       "      <th>platform</th>\n",
       "      <th></th>\n",
       "    </tr>\n",
       "  </thead>\n",
       "  <tbody>\n",
       "    <tr>\n",
       "      <th>PS2</th>\n",
       "      <td>1233.56</td>\n",
       "    </tr>\n",
       "    <tr>\n",
       "      <th>X360</th>\n",
       "      <td>961.24</td>\n",
       "    </tr>\n",
       "    <tr>\n",
       "      <th>PS3</th>\n",
       "      <td>931.34</td>\n",
       "    </tr>\n",
       "    <tr>\n",
       "      <th>Wii</th>\n",
       "      <td>891.18</td>\n",
       "    </tr>\n",
       "    <tr>\n",
       "      <th>DS</th>\n",
       "      <td>802.78</td>\n",
       "    </tr>\n",
       "    <tr>\n",
       "      <th>PS</th>\n",
       "      <td>727.58</td>\n",
       "    </tr>\n",
       "    <tr>\n",
       "      <th>PS4</th>\n",
       "      <td>314.14</td>\n",
       "    </tr>\n",
       "    <tr>\n",
       "      <th>GBA</th>\n",
       "      <td>312.88</td>\n",
       "    </tr>\n",
       "    <tr>\n",
       "      <th>PSP</th>\n",
       "      <td>289.53</td>\n",
       "    </tr>\n",
       "    <tr>\n",
       "      <th>3DS</th>\n",
       "      <td>257.81</td>\n",
       "    </tr>\n",
       "  </tbody>\n",
       "</table>\n",
       "</div>"
      ],
      "text/plain": [
       "          total_sales\n",
       "platform             \n",
       "PS2           1233.56\n",
       "X360           961.24\n",
       "PS3            931.34\n",
       "Wii            891.18\n",
       "DS             802.78\n",
       "PS             727.58\n",
       "PS4            314.14\n",
       "GBA            312.88\n",
       "PSP            289.53\n",
       "3DS            257.81"
      ]
     },
     "metadata": {},
     "output_type": "display_data"
    }
   ],
   "source": [
    "games_sales = games.pivot_table(index='platform', values='total_sales',aggfunc='sum')\\\n",
    ".sort_values(by='total_sales',ascending=False)\n",
    "\n",
    "display(games_sales.head(10))"
   ]
  },
  {
   "cell_type": "code",
   "execution_count": 26,
   "id": "0cffb332-c133-4357-8190-46f2543990a2",
   "metadata": {},
   "outputs": [
    {
     "data": {
      "image/png": "[encoded data removed]",
      "text/plain": [
       "<Figure size 432x288 with 1 Axes>"
      ]
     },
     "metadata": {
      "needs_background": "light"
     },
     "output_type": "display_data"
    },
    {
     "data": {
      "image/png": "[encoded data removed]",
      "text/plain": [
       "<Figure size 432x288 with 1 Axes>"
      ]
     },
     "metadata": {
      "needs_background": "light"
     },
     "output_type": "display_data"
    },
    {
     "data": {
      "text/html": [
       "<div>\n",
       "<style scoped>\n",
       "    .dataframe tbody tr th:only-of-type {\n",
       "        vertical-align: middle;\n",
       "    }\n",
       "\n",
       "    .dataframe tbody tr th {\n",
       "        vertical-align: top;\n",
       "    }\n",
       "\n",
       "    .dataframe thead th {\n",
       "        text-align: right;\n",
       "    }\n",
       "</style>\n",
       "<table border=\"1\" class=\"dataframe\">\n",
       "  <thead>\n",
       "    <tr style=\"text-align: right;\">\n",
       "      <th>platform</th>\n",
       "      <th>DS</th>\n",
       "      <th>PS2</th>\n",
       "      <th>PS3</th>\n",
       "      <th>Wii</th>\n",
       "      <th>X360</th>\n",
       "    </tr>\n",
       "    <tr>\n",
       "      <th>year_of_release</th>\n",
       "      <th></th>\n",
       "      <th></th>\n",
       "      <th></th>\n",
       "      <th></th>\n",
       "      <th></th>\n",
       "    </tr>\n",
       "  </thead>\n",
       "  <tbody>\n",
       "    <tr>\n",
       "      <th>1985.0</th>\n",
       "      <td>0.02</td>\n",
       "      <td>NaN</td>\n",
       "      <td>NaN</td>\n",
       "      <td>NaN</td>\n",
       "      <td>NaN</td>\n",
       "    </tr>\n",
       "    <tr>\n",
       "      <th>2000.0</th>\n",
       "      <td>NaN</td>\n",
       "      <td>39.17</td>\n",
       "      <td>NaN</td>\n",
       "      <td>NaN</td>\n",
       "      <td>NaN</td>\n",
       "    </tr>\n",
       "    <tr>\n",
       "      <th>2001.0</th>\n",
       "      <td>NaN</td>\n",
       "      <td>166.43</td>\n",
       "      <td>NaN</td>\n",
       "      <td>NaN</td>\n",
       "      <td>NaN</td>\n",
       "    </tr>\n",
       "    <tr>\n",
       "      <th>2002.0</th>\n",
       "      <td>NaN</td>\n",
       "      <td>205.38</td>\n",
       "      <td>NaN</td>\n",
       "      <td>NaN</td>\n",
       "      <td>NaN</td>\n",
       "    </tr>\n",
       "    <tr>\n",
       "      <th>2003.0</th>\n",
       "      <td>NaN</td>\n",
       "      <td>184.31</td>\n",
       "      <td>NaN</td>\n",
       "      <td>NaN</td>\n",
       "      <td>NaN</td>\n",
       "    </tr>\n",
       "    <tr>\n",
       "      <th>2004.0</th>\n",
       "      <td>17.27</td>\n",
       "      <td>211.81</td>\n",
       "      <td>NaN</td>\n",
       "      <td>NaN</td>\n",
       "      <td>NaN</td>\n",
       "    </tr>\n",
       "    <tr>\n",
       "      <th>2005.0</th>\n",
       "      <td>130.14</td>\n",
       "      <td>160.66</td>\n",
       "      <td>NaN</td>\n",
       "      <td>NaN</td>\n",
       "      <td>8.25</td>\n",
       "    </tr>\n",
       "    <tr>\n",
       "      <th>2006.0</th>\n",
       "      <td>119.81</td>\n",
       "      <td>103.42</td>\n",
       "      <td>20.96</td>\n",
       "      <td>137.15</td>\n",
       "      <td>51.62</td>\n",
       "    </tr>\n",
       "    <tr>\n",
       "      <th>2007.0</th>\n",
       "      <td>146.94</td>\n",
       "      <td>75.99</td>\n",
       "      <td>73.19</td>\n",
       "      <td>152.77</td>\n",
       "      <td>95.41</td>\n",
       "    </tr>\n",
       "    <tr>\n",
       "      <th>2008.0</th>\n",
       "      <td>145.31</td>\n",
       "      <td>53.90</td>\n",
       "      <td>118.52</td>\n",
       "      <td>171.32</td>\n",
       "      <td>135.26</td>\n",
       "    </tr>\n",
       "    <tr>\n",
       "      <th>2009.0</th>\n",
       "      <td>119.54</td>\n",
       "      <td>26.40</td>\n",
       "      <td>130.93</td>\n",
       "      <td>206.97</td>\n",
       "      <td>120.29</td>\n",
       "    </tr>\n",
       "    <tr>\n",
       "      <th>2010.0</th>\n",
       "      <td>85.02</td>\n",
       "      <td>5.64</td>\n",
       "      <td>142.17</td>\n",
       "      <td>127.95</td>\n",
       "      <td>170.03</td>\n",
       "    </tr>\n",
       "    <tr>\n",
       "      <th>2011.0</th>\n",
       "      <td>26.18</td>\n",
       "      <td>0.45</td>\n",
       "      <td>156.78</td>\n",
       "      <td>59.65</td>\n",
       "      <td>143.84</td>\n",
       "    </tr>\n",
       "    <tr>\n",
       "      <th>2012.0</th>\n",
       "      <td>11.01</td>\n",
       "      <td>NaN</td>\n",
       "      <td>107.36</td>\n",
       "      <td>21.71</td>\n",
       "      <td>99.74</td>\n",
       "    </tr>\n",
       "    <tr>\n",
       "      <th>2013.0</th>\n",
       "      <td>1.54</td>\n",
       "      <td>NaN</td>\n",
       "      <td>113.25</td>\n",
       "      <td>8.59</td>\n",
       "      <td>88.58</td>\n",
       "    </tr>\n",
       "    <tr>\n",
       "      <th>2014.0</th>\n",
       "      <td>NaN</td>\n",
       "      <td>NaN</td>\n",
       "      <td>47.76</td>\n",
       "      <td>3.75</td>\n",
       "      <td>34.74</td>\n",
       "    </tr>\n",
       "    <tr>\n",
       "      <th>2015.0</th>\n",
       "      <td>NaN</td>\n",
       "      <td>NaN</td>\n",
       "      <td>16.82</td>\n",
       "      <td>1.14</td>\n",
       "      <td>11.96</td>\n",
       "    </tr>\n",
       "    <tr>\n",
       "      <th>2016.0</th>\n",
       "      <td>NaN</td>\n",
       "      <td>NaN</td>\n",
       "      <td>3.60</td>\n",
       "      <td>0.18</td>\n",
       "      <td>1.52</td>\n",
       "    </tr>\n",
       "  </tbody>\n",
       "</table>\n",
       "</div>"
      ],
      "text/plain": [
       "platform             DS     PS2     PS3     Wii    X360\n",
       "year_of_release                                        \n",
       "1985.0             0.02     NaN     NaN     NaN     NaN\n",
       "2000.0              NaN   39.17     NaN     NaN     NaN\n",
       "2001.0              NaN  166.43     NaN     NaN     NaN\n",
       "2002.0              NaN  205.38     NaN     NaN     NaN\n",
       "2003.0              NaN  184.31     NaN     NaN     NaN\n",
       "2004.0            17.27  211.81     NaN     NaN     NaN\n",
       "2005.0           130.14  160.66     NaN     NaN    8.25\n",
       "2006.0           119.81  103.42   20.96  137.15   51.62\n",
       "2007.0           146.94   75.99   73.19  152.77   95.41\n",
       "2008.0           145.31   53.90  118.52  171.32  135.26\n",
       "2009.0           119.54   26.40  130.93  206.97  120.29\n",
       "2010.0            85.02    5.64  142.17  127.95  170.03\n",
       "2011.0            26.18    0.45  156.78   59.65  143.84\n",
       "2012.0            11.01     NaN  107.36   21.71   99.74\n",
       "2013.0             1.54     NaN  113.25    8.59   88.58\n",
       "2014.0              NaN     NaN   47.76    3.75   34.74\n",
       "2015.0              NaN     NaN   16.82    1.14   11.96\n",
       "2016.0              NaN     NaN    3.60    0.18    1.52"
      ]
     },
     "metadata": {},
     "output_type": "display_data"
    }
   ],
   "source": [
    "games_sales_1 = games_sales.head(10)\n",
    "games_sales_2 = games_sales.head(5)\n",
    "\n",
    "#mcolors.CSS4_COLORS\n",
    "\n",
    "keys = games_sales.head(10).index\n",
    "cl =  { 'blue': '#0000FF',\n",
    "       'sienna': '#A0522D',\n",
    "     'red': '#FF0000',\n",
    "     'turquoise': '#40E0D0',\n",
    "     'violet': '#EE82EE',\n",
    "     'yellow': '#FFFF00',\n",
    "     'salmon': '#FA8072',\n",
    "     'yellowgreen': '#9ACD32',\n",
    "     'powderblue': '#B0E0E6',\n",
    "     'purple': '#800080',\n",
    "}    \n",
    "\n",
    "colors = {key: color for key, color in zip(keys, cl.values())}\n",
    "\n",
    "games.query('platform in @games_sales_1.index')\\\n",
    ".pivot_table(index='year_of_release',values='total_sales',columns='platform',aggfunc='sum')\\\n",
    ".plot(grid=True,color = colors)\n",
    "plt.title('Vendas de jogos das 10 principais plataformas')\n",
    "plt.xlabel('Ano')\n",
    "plt.ylabel('Quantidade de Vendas')\n",
    "plt.show()\n",
    "\n",
    "games.query('platform in @games_sales_2.index')\\\n",
    ".pivot_table(index='year_of_release',values='total_sales',columns='platform',aggfunc='sum')\\\n",
    ".plot(grid=True,color = colors )\n",
    "plt.title('Vendas de jogos das 5 principais plataformas')\n",
    "plt.xlabel('Ano')\n",
    "plt.ylabel('Quantidade de Vendas')\n",
    "plt.show()\n",
    "\n",
    "display(games.query('platform in @games_sales_2.index').pivot_table(index='year_of_release',columns= 'platform', values='total_sales',aggfunc='sum'))"
   ]
  },
  {
   "cell_type": "code",
   "execution_count": 27,
   "id": "97f24294-33aa-495e-b4bf-e743fe9b3616",
   "metadata": {},
   "outputs": [
    {
     "data": {
      "image/png": "[encoded data removed]",
      "text/plain": [
       "<Figure size 432x288 with 1 Axes>"
      ]
     },
     "metadata": {
      "needs_background": "light"
     },
     "output_type": "display_data"
    }
   ],
   "source": [
    "games.query('platform in @games_sales_2.index')\\\n",
    ".pivot_table(index='year_of_release',values='total_sales',columns='platform',aggfunc='sum')\\\n",
    ".plot( grid=True,color = colors)\n",
    "plt.title('Vendas de jogos das 5 principais plataformas')\n",
    "plt.xlabel('Ano')\n",
    "plt.xlim([2000,2017])\n",
    "plt.ylabel('Quantidade de Vendas')\n",
    "plt.show()"
   ]
  },
  {
   "cell_type": "markdown",
   "id": "5949c07f-4105-4989-91be-a34bb109afe0",
   "metadata": {
    "tags": []
   },
   "source": [
    "A partir de uma análise visual da venda de jogos por plataforma, da 10 e 5 principais plataformas, de 1985 à 2016 . Foi identificado um tempo de uma vida da plataforma é de aproximadamente 10 anos. \n",
    "\n",
    "As plataformas que são sucessoras(do PS2 para o PS3) surgem tendo uma tendência de alta, enquanto a plataforma predecessora já está tendência de queda. Com o pico de vendas de jogos das plataformas sucessoras estando próximo do final da vida das plataformas predecessoras."
   ]
  },
  {
   "cell_type": "markdown",
   "id": "a0c43d07-97a6-492b-b405-07fd8769f1c7",
   "metadata": {},
   "source": [
    "Com o período de vida de uma plataforma sendo de aproximadamente 10 anos, para a análise e previsão para 2017 foi decidico usar os dados dos últimos 3 anos. Dessa forma, os dados utilizados serão de 2014 à 2016, o restante será desconsiderado."
   ]
  },
  {
   "cell_type": "code",
   "execution_count": 28,
   "id": "de74d3b8-fb44-4e21-9272-607c88b45caa",
   "metadata": {},
   "outputs": [],
   "source": [
    "games_good = games.query('year_of_release > 2013')"
   ]
  },
  {
   "cell_type": "code",
   "execution_count": 29,
   "id": "7a7540dd-2dc1-43d6-8a98-f2ed27cc281e",
   "metadata": {},
   "outputs": [
    {
     "data": {
      "image/png": "[encoded data removed]",
      "text/plain": [
       "<Figure size 432x288 with 1 Axes>"
      ]
     },
     "metadata": {
      "needs_background": "light"
     },
     "output_type": "display_data"
    },
    {
     "data": {
      "text/html": [
       "<div>\n",
       "<style scoped>\n",
       "    .dataframe tbody tr th:only-of-type {\n",
       "        vertical-align: middle;\n",
       "    }\n",
       "\n",
       "    .dataframe tbody tr th {\n",
       "        vertical-align: top;\n",
       "    }\n",
       "\n",
       "    .dataframe thead th {\n",
       "        text-align: right;\n",
       "    }\n",
       "</style>\n",
       "<table border=\"1\" class=\"dataframe\">\n",
       "  <thead>\n",
       "    <tr style=\"text-align: right;\">\n",
       "      <th>platform</th>\n",
       "      <th>3DS</th>\n",
       "      <th>PC</th>\n",
       "      <th>PS3</th>\n",
       "      <th>PS4</th>\n",
       "      <th>PSP</th>\n",
       "      <th>PSV</th>\n",
       "      <th>Wii</th>\n",
       "      <th>WiiU</th>\n",
       "      <th>X360</th>\n",
       "      <th>XOne</th>\n",
       "    </tr>\n",
       "    <tr>\n",
       "      <th>year_of_release</th>\n",
       "      <th></th>\n",
       "      <th></th>\n",
       "      <th></th>\n",
       "      <th></th>\n",
       "      <th></th>\n",
       "      <th></th>\n",
       "      <th></th>\n",
       "      <th></th>\n",
       "      <th></th>\n",
       "      <th></th>\n",
       "    </tr>\n",
       "  </thead>\n",
       "  <tbody>\n",
       "    <tr>\n",
       "      <th>2014.0</th>\n",
       "      <td>43.76</td>\n",
       "      <td>13.28</td>\n",
       "      <td>47.76</td>\n",
       "      <td>100.00</td>\n",
       "      <td>0.24</td>\n",
       "      <td>11.90</td>\n",
       "      <td>3.75</td>\n",
       "      <td>22.03</td>\n",
       "      <td>34.74</td>\n",
       "      <td>54.07</td>\n",
       "    </tr>\n",
       "    <tr>\n",
       "      <th>2015.0</th>\n",
       "      <td>27.78</td>\n",
       "      <td>8.52</td>\n",
       "      <td>16.82</td>\n",
       "      <td>118.90</td>\n",
       "      <td>0.12</td>\n",
       "      <td>6.25</td>\n",
       "      <td>1.14</td>\n",
       "      <td>16.35</td>\n",
       "      <td>11.96</td>\n",
       "      <td>60.14</td>\n",
       "    </tr>\n",
       "    <tr>\n",
       "      <th>2016.0</th>\n",
       "      <td>15.14</td>\n",
       "      <td>5.25</td>\n",
       "      <td>3.60</td>\n",
       "      <td>69.25</td>\n",
       "      <td>NaN</td>\n",
       "      <td>4.25</td>\n",
       "      <td>0.18</td>\n",
       "      <td>4.60</td>\n",
       "      <td>1.52</td>\n",
       "      <td>26.15</td>\n",
       "    </tr>\n",
       "  </tbody>\n",
       "</table>\n",
       "</div>"
      ],
      "text/plain": [
       "platform           3DS     PC    PS3     PS4   PSP    PSV   Wii   WiiU   X360  \\\n",
       "year_of_release                                                                 \n",
       "2014.0           43.76  13.28  47.76  100.00  0.24  11.90  3.75  22.03  34.74   \n",
       "2015.0           27.78   8.52  16.82  118.90  0.12   6.25  1.14  16.35  11.96   \n",
       "2016.0           15.14   5.25   3.60   69.25   NaN   4.25  0.18   4.60   1.52   \n",
       "\n",
       "platform          XOne  \n",
       "year_of_release         \n",
       "2014.0           54.07  \n",
       "2015.0           60.14  \n",
       "2016.0           26.15  "
      ]
     },
     "metadata": {},
     "output_type": "display_data"
    }
   ],
   "source": [
    "games_good\\\n",
    ".pivot_table(index='year_of_release',columns= 'platform', values='total_sales',aggfunc='sum')\\\n",
    ".plot(grid=True, style='o-')\n",
    "plt.title('Jogos vendidos de 2014 à 2016')\n",
    "plt.xlabel('Ano')\n",
    "plt.ylabel('Quantidade de Vendas')\n",
    "plt.show()\n",
    "\n",
    "display(games_good.pivot_table(index='year_of_release',columns= 'platform', values='total_sales',aggfunc='sum'))"
   ]
  },
  {
   "cell_type": "markdown",
   "id": "5569f3a0-c0c8-4518-a492-81981e4706d0",
   "metadata": {},
   "source": [
    "As plataformas que estão liderando as vendas em 2016 são o PS4 com 69 milhões, XOne com 26 milhões e o 3DS com quase 15 milhões de \n",
    "vendas de jogos para a plataforma. As outras plataformas tiveram menos de 20 milhões somadas, com nenhuma acima de 6 milhões.\n",
    "\n",
    "Entre 2015 e 2016 todas as plataformas estão em tedência de queda. As plataformas mais interessantes para fazer campanha publicitária para 2017 seriam o PS4 e o XOne."
   ]
  },
  {
   "cell_type": "code",
   "execution_count": 30,
   "id": "50198076-e690-434b-acae-2df4963c9a22",
   "metadata": {},
   "outputs": [],
   "source": [
    "games_atual = games.query('year_of_release > 2013')"
   ]
  },
  {
   "cell_type": "markdown",
   "id": "f90bc1bc-4faa-4cbd-a2a2-884fd6ea18b9",
   "metadata": {
    "tags": []
   },
   "source": [
    "### Boxplot de vendas de jogos separados por plataforma:"
   ]
  },
  {
   "cell_type": "code",
   "execution_count": 31,
   "id": "8b8b3d5d-6b66-42bb-ab6f-6f0c352938e9",
   "metadata": {},
   "outputs": [
    {
     "data": {
      "image/png": "[encoded data removed]",
      "text/plain": [
       "<Figure size 792x432 with 1 Axes>"
      ]
     },
     "metadata": {
      "needs_background": "light"
     },
     "output_type": "display_data"
    }
   ],
   "source": [
    "#games_atual\n",
    "plt.figure(figsize=(11,6))\n",
    "sns.boxplot(x='platform', y='total_sales', data=games_atual)\n",
    "#plt.ylim(0,15)\n",
    "plt.ylabel('Vendas')\n",
    "plt.xlabel('Platforma')\n",
    "plt.title('Boxplot de Vendas de Jogos Separados por Plataforma', size=15)\n",
    "plt.show()"
   ]
  },
  {
   "cell_type": "code",
   "execution_count": 32,
   "id": "a4f19b07-88d8-4508-9709-ac0b0f2b6e10",
   "metadata": {},
   "outputs": [
    {
     "data": {
      "image/png": "[encoded data removed]",
      "text/plain": [
       "<Figure size 792x432 with 1 Axes>"
      ]
     },
     "metadata": {
      "needs_background": "light"
     },
     "output_type": "display_data"
    }
   ],
   "source": [
    "plt.figure(figsize=(11,6))\n",
    "sns.boxplot(x='platform', y='total_sales', data=games_atual)\n",
    "plt.ylim(0,2)\n",
    "plt.ylabel('Vendas')\n",
    "plt.xlabel('Platforma')\n",
    "plt.title('Boxplot de Vendas de Jogos Separados por Plataforma', size=15)\n",
    "\n",
    "# Adicionar um ponto vermelho na média de cada plataforma\n",
    "medias = games_atual.groupby('platform')['total_sales'].mean().values\n",
    "posicoes = range(len(medias))\n",
    "plt.plot(posicoes, medias, 'ro')\n",
    "\n",
    "plt.show()"
   ]
  },
  {
   "cell_type": "markdown",
   "id": "cf31358c-91f5-49f5-8a18-2166df454ecc",
   "metadata": {},
   "source": [
    "Existem diferenças bem significativas nas vendas entre as plataformas. Variás plataformas possuem certos jogos que vendenram muito em relação a mediana, isso representa que as plataformas possuem determinados jogos de representam a maior parte das vendas dessa plataformas. "
   ]
  },
  {
   "cell_type": "markdown",
   "id": "45de22ec-ac92-4196-9656-8ab91413a577",
   "metadata": {
    "tags": []
   },
   "source": [
    "### Gráficos de dispersão das avaliações de usuários e profissionais e as vendas totais:"
   ]
  },
  {
   "cell_type": "markdown",
   "id": "b54f9148-1728-4674-996e-40fe37ee7570",
   "metadata": {},
   "source": [
    "Vou analisar como as avaliações de usuários e profissionais afetam as vendas de uma plataforma popular, o PS4."
   ]
  },
  {
   "cell_type": "code",
   "execution_count": 33,
   "id": "331e92cc-bb2c-49e9-96a0-e540b0f09fdd",
   "metadata": {},
   "outputs": [],
   "source": [
    "games_ps4 =games_atual.query('platform == \"PS4\"')"
   ]
  },
  {
   "cell_type": "code",
   "execution_count": 34,
   "id": "799bb011-beda-44dd-b16a-8072c2e89e50",
   "metadata": {},
   "outputs": [
    {
     "data": {
      "image/png": "[encoded data removed]",
      "text/plain": [
       "<Figure size 720x360 with 2 Axes>"
      ]
     },
     "metadata": {
      "needs_background": "light"
     },
     "output_type": "display_data"
    }
   ],
   "source": [
    "fig, (ax1, ax2) = plt.subplots(1, 2, figsize=(10, 5))\n",
    "\n",
    "fig.suptitle('Gráficos de Dispersão do PS4')\n",
    "\n",
    "ax1.scatter(games_ps4['user_score'], games_ps4['total_sales'])\n",
    "ax1.set_title('Gráfico de Dispersão entre User_score e Vendas Totais', fontsize=10)\n",
    "ax1.set_xlabel('User Score')\n",
    "ax1.set_ylabel('Vendas Totais')\n",
    "\n",
    "ax2.scatter(games_ps4['critic_score'], games_ps4['total_sales'])\n",
    "ax2.set_title('Gráfico de Dispersão entre Critic_score e Vendas Totais', fontsize=10)\n",
    "ax2.set_xlabel('Critic Score')\n",
    "ax2.set_ylabel('Vendas Totais')\n",
    "\n",
    "plt.show();"
   ]
  },
  {
   "cell_type": "code",
   "execution_count": 35,
   "id": "a0fe9fc0-e927-4a01-b2b5-925adc03f234",
   "metadata": {},
   "outputs": [
    {
     "name": "stdout",
     "output_type": "stream",
     "text": [
      "A correlação entre user_score e total_sales é de: -0.040131589472697356\n",
      "A correlação entre citric_score e total_sales é de: 0.40266141068104083\n"
     ]
    }
   ],
   "source": [
    "corr_user = games_ps4['user_score'].corr(games_ps4['total_sales'])\n",
    "print(f\"A correlação entre user_score e total_sales é de: {corr_user}\")\n",
    "\n",
    "corr_critic = games_ps4['critic_score'].corr(games_ps4['total_sales'])\n",
    "print(f\"A correlação entre citric_score e total_sales é de: {corr_critic}\")"
   ]
  },
  {
   "cell_type": "markdown",
   "id": "f68ac748-a500-4be4-8a80-33243d7dc5fc",
   "metadata": {},
   "source": [
    "As avaliações de usuários não afetam as vendas totais dos jogos, a releção é quase não existente. As avaliações de profissionais possui uma relação positiva com as vendas totais, de 0.40, quanto melhor a avaliação maior tende ser as vendas, mas ainda não é possível saber qual deles é a causa."
   ]
  },
  {
   "cell_type": "markdown",
   "id": "78030f7c-5009-44f6-9d8f-fcdbefd26c82",
   "metadata": {
    "tags": []
   },
   "source": [
    "### Comparação da venda do jogo mais vendido entre as plataformas:"
   ]
  },
  {
   "cell_type": "code",
   "execution_count": 36,
   "id": "a7b739a7-d04e-41e4-93a8-7454c5d72708",
   "metadata": {},
   "outputs": [
    {
     "data": {
      "text/html": [
       "<div>\n",
       "<style scoped>\n",
       "    .dataframe tbody tr th:only-of-type {\n",
       "        vertical-align: middle;\n",
       "    }\n",
       "\n",
       "    .dataframe tbody tr th {\n",
       "        vertical-align: top;\n",
       "    }\n",
       "\n",
       "    .dataframe thead th {\n",
       "        text-align: right;\n",
       "    }\n",
       "</style>\n",
       "<table border=\"1\" class=\"dataframe\">\n",
       "  <thead>\n",
       "    <tr style=\"text-align: right;\">\n",
       "      <th></th>\n",
       "      <th>total_sales</th>\n",
       "    </tr>\n",
       "    <tr>\n",
       "      <th>name</th>\n",
       "      <th></th>\n",
       "    </tr>\n",
       "  </thead>\n",
       "  <tbody>\n",
       "    <tr>\n",
       "      <th>Call of Duty: Black Ops 3</th>\n",
       "      <td>25.67</td>\n",
       "    </tr>\n",
       "    <tr>\n",
       "      <th>Call of Duty: Advanced Warfare</th>\n",
       "      <td>21.97</td>\n",
       "    </tr>\n",
       "    <tr>\n",
       "      <th>Grand Theft Auto V</th>\n",
       "      <td>19.26</td>\n",
       "    </tr>\n",
       "  </tbody>\n",
       "</table>\n",
       "</div>"
      ],
      "text/plain": [
       "                                total_sales\n",
       "name                                       \n",
       "Call of Duty: Black Ops 3             25.67\n",
       "Call of Duty: Advanced Warfare        21.97\n",
       "Grand Theft Auto V                    19.26"
      ]
     },
     "execution_count": 36,
     "metadata": {},
     "output_type": "execute_result"
    }
   ],
   "source": [
    "games_atual.pivot_table( index='name', values='total_sales', aggfunc='sum').sort_values(by='total_sales', ascending=False).head(3)"
   ]
  },
  {
   "cell_type": "code",
   "execution_count": 37,
   "id": "c028daff-3f2c-460f-9023-e2cbca87da0a",
   "metadata": {},
   "outputs": [
    {
     "data": {
      "image/png": "[encoded data removed]",
      "text/plain": [
       "<Figure size 432x288 with 1 Axes>"
      ]
     },
     "metadata": {
      "needs_background": "light"
     },
     "output_type": "display_data"
    }
   ],
   "source": [
    "sns.barplot(x='platform', y='total_sales', data=games_atual.query('name == \"Call of Duty: Black Ops 3\"'))\n",
    "\n",
    "plt.ylabel('Vendas')\n",
    "plt.xlabel('Plataforma')\n",
    "plt.title('Vendas de Call of Duty: Black Ops 3 por Plataforma', size=15)\n",
    "\n",
    "plt.show()"
   ]
  },
  {
   "cell_type": "markdown",
   "id": "929a842d-8b3f-43c0-8194-14b7f4b8d157",
   "metadata": {},
   "source": [
    "O jogo mais vendido do período foi o \"Call of Duty: Black Ops 3\", a maior parte das vendas foram no PS4 e no XOne, a distribuição da venda está relativa a distribuição das vendas totais por plataforma."
   ]
  },
  {
   "cell_type": "markdown",
   "id": "98321171-6885-46d5-be28-69ede88041a3",
   "metadata": {
    "tags": []
   },
   "source": [
    "### Distribuição geral de jogos por gênero:"
   ]
  },
  {
   "cell_type": "markdown",
   "id": "2687ac87-1743-44de-bf02-7a35e4b4bb44",
   "metadata": {},
   "source": [
    "Agora verei a distribuição geral de jogos por gênero, quais são os mais lucrativos."
   ]
  },
  {
   "cell_type": "code",
   "execution_count": 38,
   "id": "cfada831-ca38-485b-a7bc-84bc54a359ca",
   "metadata": {},
   "outputs": [
    {
     "data": {
      "image/png": "[encoded data removed]",
      "text/plain": [
       "<Figure size 720x360 with 1 Axes>"
      ]
     },
     "metadata": {
      "needs_background": "light"
     },
     "output_type": "display_data"
    }
   ],
   "source": [
    "plt.figure(figsize=(10,5))\n",
    "sns.boxplot(x='genre', y='total_sales', data=games_atual)\n",
    "#plt.ylim(0,2)\n",
    "plt.ylabel('Vendas')\n",
    "plt.xlabel('Gênero')\n",
    "plt.title('Boxplot de Vendas de Jogos Separados por Gênero', size=15)\n",
    "\n",
    "# Adicionar um ponto vermelho na média de cada plataforma\n",
    "medias = games_atual.groupby('platform')['total_sales'].mean().values\n",
    "posicoes = range(len(medias))\n",
    "plt.plot(posicoes, medias, 'ro')\n",
    "\n",
    "plt.show()"
   ]
  },
  {
   "cell_type": "markdown",
   "id": "452742a7-1a7c-4508-8e26-f47d11e74df0",
   "metadata": {},
   "source": [
    "Os gêneros mais lucrativos são \"Shooter\", \"Action\" e \"Role-Playing\". Os principais gêneros também são os que possuem os maiores outliners, sendo que esses outlines os jogos mais vendidos do período, colocando esses gêneros como os mais vendidos."
   ]
  },
  {
   "cell_type": "markdown",
   "id": "a2d77178-f64e-46d4-aef2-8db105fcfdaa",
   "metadata": {
    "tags": []
   },
   "source": [
    "### Criação um perfil de usuário para cada região:"
   ]
  },
  {
   "cell_type": "code",
   "execution_count": 39,
   "id": "7ec4309e-709d-4d94-a244-0b0030925a77",
   "metadata": {},
   "outputs": [],
   "source": [
    "def region_bar(region,name):\n",
    "    fig, (ax1, ax2,ax3) = plt.subplots(1, 3, figsize=(12, 6))\n",
    "    fig.suptitle(name)\n",
    "\n",
    "    games_atual.pivot_table(index= 'platform', values= region, aggfunc='sum').sort_values(by=region, ascending=False).head(5)\\\n",
    "    .plot(kind='bar', ax=ax1)\n",
    "    ax1.set_title('Gráfico de Barras das Principais Plataformas', fontsize=10)\n",
    "    ax1.set_xlabel('Plataforma')\n",
    "    ax1.set_ylabel('Vendas')\n",
    "\n",
    "    games_atual.pivot_table(index= 'genre', values= region, aggfunc='sum').sort_values(by=region, ascending=False).head(5)\\\n",
    "    .plot(kind='bar', ax=ax2)\n",
    "    ax2.set_title('Gráfico de Barras dos Principais Gêneros', fontsize=10)\n",
    "    ax2.set_xlabel('Gênero')\n",
    "    ax2.set_ylabel('Vendas')\n",
    "\n",
    "    games_atual.pivot_table(index= 'rating', values=region, aggfunc='sum').sort_values(by=region, ascending=False)\\\n",
    "    .plot(kind='bar', ax=ax3)\n",
    "    ax3.set_title('Gráfico de Barras dos Principais ESRB', fontsize=10)\n",
    "    ax3.set_xlabel('ESRB')\n",
    "    ax3.set_ylabel('Vendas')\n",
    "\n",
    "\n",
    "    plt.show();"
   ]
  },
  {
   "cell_type": "code",
   "execution_count": 40,
   "id": "a4150198-61ee-4c3e-a74b-bb58480a76fc",
   "metadata": {},
   "outputs": [
    {
     "data": {
      "image/png": "[encoded data removed]",
      "text/plain": [
       "<Figure size 864x432 with 3 Axes>"
      ]
     },
     "metadata": {
      "needs_background": "light"
     },
     "output_type": "display_data"
    }
   ],
   "source": [
    "region_bar('na_sales', 'Região da América do Norte')"
   ]
  },
  {
   "cell_type": "markdown",
   "id": "8c3c9fab-e4b9-438a-97b8-d3d86a2a32d1",
   "metadata": {},
   "source": [
    "A região da América do Norte possui o PS4 e XOne como os principais consoles, e os gêneros \"Shooter\" e \"Action\" como os principais.  \"Shooter\" e \"Action\" normalmente são jogos violentos, então faz sentido a principal classificação ser \"M\"( acima de 17 anos) ser a principal. A distribuição da América do Norte assemelha-se a distribuição das vendas totais."
   ]
  },
  {
   "cell_type": "code",
   "execution_count": 41,
   "id": "eb18a65a-f5f2-4051-a4b9-cf1f7dc7adb5",
   "metadata": {},
   "outputs": [
    {
     "data": {
      "image/png": "[encoded data removed]",
      "text/plain": [
       "<Figure size 864x432 with 3 Axes>"
      ]
     },
     "metadata": {
      "needs_background": "light"
     },
     "output_type": "display_data"
    }
   ],
   "source": [
    "region_bar('jp_sales', 'Região do Japão')"
   ]
  },
  {
   "cell_type": "markdown",
   "id": "7a02209b-2c59-4a32-9441-7f396d277682",
   "metadata": {},
   "source": [
    "A região da Japão possui o 3DS como o principal console, e os gêneros \"Role-Playing\" e \"Action\" como os principais. O 3DS e feito pela Nitendo, famosa por seus jogos para família, o que está relacionado com as principais classificações serem \"T\" (a partir de 13 anos) e \"E\"( para todas as idades). "
   ]
  },
  {
   "cell_type": "code",
   "execution_count": 42,
   "id": "b372bba9-c4fc-49d3-9b13-995a856e3b99",
   "metadata": {},
   "outputs": [
    {
     "data": {
      "image/png": "[encoded data removed]",
      "text/plain": [
       "<Figure size 864x432 with 3 Axes>"
      ]
     },
     "metadata": {
      "needs_background": "light"
     },
     "output_type": "display_data"
    }
   ],
   "source": [
    "region_bar('eu_sales', 'Região da Europa')"
   ]
  },
  {
   "cell_type": "markdown",
   "id": "289d7ef5-bf2c-4447-a8e8-e69e649bae50",
   "metadata": {},
   "source": [
    "A região da Europa possui o PS4 como o principal console, e os gêneros \"Action\" e  \"Shooter\"  como os principais. \"Shooter\" e \"Action\" normalmente são jogos violentos, então faz sentido a principal classificação ser \"M\"( acima de 17 anos) ser a principal. A distribuição da Europa é parecida com a da América do Norte, a principal diferença que o XOne possui uma porcentagem de vendas bem menor do que na América do Norte. Os gêneros também são parecidos com os da América do Norte."
   ]
  },
  {
   "cell_type": "markdown",
   "id": "1d4e9d29-03bf-469d-b8a3-be68eed47409",
   "metadata": {
    "tags": []
   },
   "source": [
    "Em conclusão, o perfil de usuário da região da América do Norte e da Europa são bem parecidos, com o console PS4 liderando o mercado. Os principais gêneros sendo \"Shooter\" e \"Action\", a posição está invertida na Europa. A classificação mais comum sendo \"M\". A principal diferença é na América do Norte o PS4 e XOne tem vendas próximas, na Europa o PS4 domina de forma massiva.\n",
    "\n",
    "O perfil do Japão é diferente, com o principal console sendo o 3DS. Os principais gêneros sendo \"Role-Playing\" e \"Action\", e a classificação mais comum sendo \"T\". O usuário japonês consome jogos de RPG jogando no consele 3DS. "
   ]
  },
  {
   "cell_type": "markdown",
   "id": "cf69910a-75d4-4a39-b471-114647678ec8",
   "metadata": {
    "tags": []
   },
   "source": [
    "## TESTE DE HIPÓTESES"
   ]
  },
  {
   "cell_type": "markdown",
   "id": "c9c7723f-73b1-42f8-bf65-70185f288dd9",
   "metadata": {},
   "source": [
    "Os testes de hipóteses são testes estatísticos que permitem saber rejeitar que dois grupos amostrais sejam iguais estatisticamente, dados um certo nível de significância. Com a hipótese zero sendo rejeitada se o p-value for menor que a significância.\n",
    "\n",
    "As hipóteses testadas serão:\n",
    "- As classificações médias dos usuários das plataformas Xbox One e PC são as mesmas.\n",
    "- As classificações médias de usuários para os gêneros Action (ação) e Sports (esportes) são diferentes.\n",
    "\n",
    "Para os dois testes de hipótese, o nível de significância,  o alfa, será de 5%."
   ]
  },
  {
   "cell_type": "code",
   "execution_count": 43,
   "id": "d072f8eb-33c6-4855-813a-2590f4deb1d6",
   "metadata": {},
   "outputs": [],
   "source": [
    "alpha = 0.05"
   ]
  },
  {
   "cell_type": "markdown",
   "id": "849ef6f2-716e-404d-921c-2ac3c262fc6a",
   "metadata": {
    "tags": []
   },
   "source": [
    "### Primeiro teste:"
   ]
  },
  {
   "cell_type": "markdown",
   "id": "18b3ffc9-c31b-4b0c-9f13-b6a0aa9bcd52",
   "metadata": {},
   "source": [
    "O primeiro teste, as classificações médias dos usuários das plataformas Xbox One e PC são as mesmas.\n",
    "não pode ser rejeitada\n",
    "- Hipótese nula: as classificações médias dos usuários das plataformas Xbox One e PC são as mesmas.\n",
    "- Hipótese alternativa: as classificações médias dos usuários das plataformas Xbox One e PC são diferentes."
   ]
  },
  {
   "cell_type": "code",
   "execution_count": 44,
   "id": "e9b2d928-4a5c-474e-8761-034d358763e7",
   "metadata": {},
   "outputs": [],
   "source": [
    "xone = games_atual.query('platform == \"XOne\"')['user_score'].dropna()\n",
    "\n",
    "pc = games_atual.query('platform == \"PC\"')['user_score'].dropna()"
   ]
  },
  {
   "cell_type": "code",
   "execution_count": 45,
   "id": "525d5e2e-03f7-49c6-9074-2501d343276e",
   "metadata": {},
   "outputs": [
    {
     "name": "stdout",
     "output_type": "stream",
     "text": [
      "Média da classificação de Xone: 6.594545454545456\n",
      "Variância da classificação de Xone: 1.8910066518847013\n",
      "\n",
      "Média da classificação de PC: 6.298360655737705\n",
      "Variância da classificação de PC: 2.901154315133451\n"
     ]
    }
   ],
   "source": [
    "print(f'Média da classificação de Xone: {xone.mean()}')\n",
    "print(f'Variância da classificação de Xone: {xone.var()}\\n')\n",
    "\n",
    "print(f'Média da classificação de PC: {pc.mean()}')\n",
    "print(f'Variância da classificação de PC: {pc.var()}')\n"
   ]
  },
  {
   "cell_type": "code",
   "execution_count": 46,
   "id": "e0129c36-e1bf-447a-b92b-791ca6d6207e",
   "metadata": {},
   "outputs": [
    {
     "data": {
      "image/png": "[encoded data removed]",
      "text/plain": [
       "<Figure size 422.5x360 with 1 Axes>"
      ]
     },
     "metadata": {
      "needs_background": "light"
     },
     "output_type": "display_data"
    }
   ],
   "source": [
    "# Densidade de User_Score por Plataforma\n",
    "sns.displot(data=games_atual.query('platform == \"XOne\" or platform == \"PC\"'), x='user_score', hue=\"platform\", kind=\"kde\");\n",
    "plt.title('Densidade de User_Score por Plataforma');\n",
    "plt.ylabel('Densidade')\n",
    "plt.xlabel('user_score')\n",
    "plt.show();"
   ]
  },
  {
   "cell_type": "code",
   "execution_count": 47,
   "id": "75981210-b40e-409d-8ed8-5e8b4bc9914c",
   "metadata": {},
   "outputs": [
    {
     "name": "stdout",
     "output_type": "stream",
     "text": [
      "p-value do teste de Levene:0.014868430917663678\n",
      "p-value: 0.11601398086668827\n",
      "Hipótese zero não pode ser rejeitada\n"
     ]
    }
   ],
   "source": [
    "#Teste de Levene\n",
    "platform_levene = levene(xone, pc)\n",
    "\n",
    "print(f'p-value do teste de Levene:{platform_levene.pvalue}')\n",
    "\n",
    "# Teste as hipóteses\n",
    "if platform_levene.pvalue < alpha:\n",
    "    platform_test = ttest_ind(xone, pc, nan_policy='omit', equal_var=False)\n",
    "else:\n",
    "    platform_test = ttest_ind(xone, pc, nan_policy='omit', equal_var=True)\n",
    "\n",
    "\n",
    "print(f'p-value: {platform_test.pvalue}')\n",
    "\n",
    "if platform_test.pvalue < alpha:\n",
    "    print('Hipótese zero rejeitada')\n",
    "else:\n",
    "    print('Hipótese zero não pode ser rejeitada')"
   ]
  },
  {
   "cell_type": "markdown",
   "id": "62d3e07c-9f20-4e6e-a917-d49b6cd7c0fb",
   "metadata": {},
   "source": [
    "A hipótese zero não pode ser rejeitada, sendo assim, podemos afirmar que as classificações médias dos usuários das plataformas Xbox One e PC são as mesmas."
   ]
  },
  {
   "cell_type": "markdown",
   "id": "7a3fa0a6-2a2c-4add-b4b9-7b565f40323e",
   "metadata": {
    "tags": []
   },
   "source": [
    "### Segundo Teste:"
   ]
  },
  {
   "cell_type": "markdown",
   "id": "91f07de0-a41e-4522-adcf-fa49fa644301",
   "metadata": {},
   "source": [
    "O segundo teste, as classificações médias de usuários para os gêneros Action (ação) e Sports (esportes) são diferentes.\n",
    "\n",
    "- Hipótese nula: as classificações médias de usuários para os gêneros Action (ação) e Sports (esportes) são as mesmas.\n",
    "- Hipótese alternativa: as classificações médias de usuários para os gêneros Action (ação) e Sports (esportes) são diferentes."
   ]
  },
  {
   "cell_type": "code",
   "execution_count": 48,
   "id": "e3eada93-d722-450d-bbb0-cf5783dde2c8",
   "metadata": {},
   "outputs": [],
   "source": [
    "action = games_atual.query('genre == \"Action\"')['user_score'].dropna()\n",
    "\n",
    "sports = games_atual.query('genre == \"Sports\"')['user_score'].dropna()\n"
   ]
  },
  {
   "cell_type": "code",
   "execution_count": 49,
   "id": "5fef1fdb-acc8-4680-ad64-1a02f9445c4d",
   "metadata": {},
   "outputs": [
    {
     "name": "stdout",
     "output_type": "stream",
     "text": [
      "Média da classificação de action: 6.760606060606061\n",
      "Variância da classificação de action: 1.8984766584766581\n",
      "\n",
      "Média da classificação de sports: 5.2251968503937\n",
      "Variância da classificação de sports: 3.446979127609048\n"
     ]
    }
   ],
   "source": [
    "print(f'Média da classificação de action: {action.mean()}')\n",
    "print(f'Variância da classificação de action: {action.var()}\\n')\n",
    "\n",
    "print(f'Média da classificação de sports: {sports.mean()}')\n",
    "print(f'Variância da classificação de sports: {sports.var()}')\n"
   ]
  },
  {
   "cell_type": "code",
   "execution_count": 50,
   "id": "ce3e9b9f-47f4-4da6-9d7f-66edfda84d9f",
   "metadata": {},
   "outputs": [
    {
     "data": {
      "image/png": "[encoded data removed]",
      "text/plain": [
       "<Figure size 427.75x360 with 1 Axes>"
      ]
     },
     "metadata": {
      "needs_background": "light"
     },
     "output_type": "display_data"
    }
   ],
   "source": [
    "# Densidade de User_Score por Gênero\n",
    "sns.displot(data=games_atual.query('genre == \"Action\" or genre == \"Sports\"'), x='user_score', hue=\"genre\", kind=\"kde\");\n",
    "plt.title('Densidade de User_Score por Gênero');\n",
    "plt.ylabel('Densidade')\n",
    "plt.xlabel('user_score')\n",
    "plt.show();"
   ]
  },
  {
   "cell_type": "code",
   "execution_count": 51,
   "id": "9846db05-f23b-41ae-a48c-3b5b7d9e8e9b",
   "metadata": {},
   "outputs": [
    {
     "name": "stdout",
     "output_type": "stream",
     "text": [
      "p-value do teste de Levene:4.480161685830322e-06\n",
      "p-value: 1.1825550382644557e-14\n",
      "Hipótese zero rejeitada\n"
     ]
    }
   ],
   "source": [
    "#Teste de Levene\n",
    "genre_levene = levene(action, sports)\n",
    "\n",
    "print(f'p-value do teste de Levene:{genre_levene.pvalue}')\n",
    "\n",
    "# Teste as hipóteses\n",
    "if genre_levene.pvalue < alpha:\n",
    "    genre_test = ttest_ind(action, sports, nan_policy='omit', equal_var=False)\n",
    "else:\n",
    "    genre_test = ttest_ind(action, sports, nan_policy='omit', equal_var=True)\n",
    "\n",
    "print(f'p-value: {genre_test.pvalue}')\n",
    "\n",
    "if genre_test.pvalue < alpha:\n",
    "    print('Hipótese zero rejeitada')\n",
    "else:\n",
    "    print('Hipótese zero não pode ser rejeitada')"
   ]
  },
  {
   "cell_type": "markdown",
   "id": "67e13c20-3efc-45db-8523-c437cd6173fb",
   "metadata": {},
   "source": [
    "A hipótese zero foi rejeitada, sendo assim, podemos afirmar que as classificações médias de usuários para os gêneros Action (ação) e Sports (esportes) são diferentes."
   ]
  },
  {
   "cell_type": "markdown",
   "id": "b3d78002-9205-4981-9cd2-035844b43850",
   "metadata": {
    "tags": []
   },
   "source": [
    "## Conclusão Geral "
   ]
  },
  {
   "cell_type": "markdown",
   "id": "bb4a9063-281c-4683-bcf2-2784d612ec37",
   "metadata": {},
   "source": [
    "Em primeiro lugar, foi feita uma observação inicial dos dados do dataframe, para identificar problemas que possam afetar a análise. Os problemas encontrados foram:\n",
    "\n",
    "- Necessidade de colocar os nomes das colunas em letra minúscula;\n",
    "- Uma colunas estava com o tipo incorreto;\n",
    "- Seis colunas possuiam valores ausentes.\n",
    "\n",
    "Os nomes das colunas e o tipo da coluna foram corrigidos. Os valores ausentes das colunas `critic_score`, `user_score` e `rating` não foram preenchidos por não haver valores na tabela que estajam ligados a eles. Dessa forma, também não foi possível identificar a razão deles estarem ausentes. Não foram deletados pois essas colunas serão necessarios para a análise. As outras colunas com valores ausentes as linhas que possuiam foram deletadas por não representarem mais que 1% do dataframe. Para aprimorar a análise foi criada a coluna `total_sales`.\n",
    "\n",
    "Através da análise foi idenficado:\n",
    "\n",
    "- Houve uma tendência de alta para o lançamento de jogos a cada ano, com o pico sendo 2008, seguido de uma tendência de queda até 2016.\n",
    "\n",
    "- O tempo de vida de uma plataforma é de aproximadamente 10 anos.\n",
    "\n",
    "- Os dados utilizados para a análise serão de 2014 a 2016.\n",
    "\n",
    "- As plataformas que estão liderando as vendas em 2016 são o PS4 com 69 milhões, XOne com 26 milhões e o 3DS com quase 15 milhões de vendas de jogos para a plataforma.Entre 2015 e 2016 todas as plataformas estão em tedência de queda.\n",
    "\n",
    "-  As plataformas possuem determinados jogos de representam a maior parte das vendas dessa plataformas.\n",
    "\n",
    "- As avaliações de usuários não afetam as vendas totais dos jogos. As avaliações de profissionais possui uma relação positiva com as vendas totais.\n",
    "\n",
    "- O jogo mais vendido do período de 2014 a 2016 foi o \"Call of Duty: Black Ops 3\", a maior parte das vendas foram no PS4 e no XOne, a distribuição da venda está relativa a distribuição das vendas totais por plataforma.\n",
    "\n",
    "- Os gêneros mais lucrativos são \"Shooter\", \"Action\" e \"Role-Playing\". Os principais gêneros também são os que possuem os maiores outliners, sendo que esses outlines os jogos mais vendidos do período.\n",
    "\n",
    "Foram criados perfis de usuários para cada região, para identificar se existem diferentes tedências, as regiões são América do Norte, Japão e Europa. O perfil de usuário da região da América do Norte e da Europa são bem parecidos, com o console PS4 liderando o mercado, na América do Norte o XOne tem vendas proximas do PS4, isso não é visto na Europa. Os principais gêneros sendo \"Shooter\" e \"Action\", a posição está invertida na Europa. O perfil do Japão é diferente, com o principal console sendo o 3DS. Os principais gêneros sendo \"Role-Playing\" e \"Action\", e a classificação mais comum sendo \"T\". O usuário japonês consome jogos de RPG jogando no consele 3DS. \n",
    "\n",
    "Foram feitos dois testes de hipóteses em relação as classificações médias dos usuários entre plataforma e gênero. Os testes demonstraram que as classificações médias dos usuários das plataformas Xbox One e PC são as mesmas e que as classificações médias de usuários para os gêneros Action (ação) e Sports (esportes) são diferentes. \n",
    "\n",
    "Em conclusão, a partir da análise uma boa campanha publicitária deveria focar na plataforma PS4 para jogos do tipo \"Shooter\" e \"Action\", com classificação \"M\", nas regiões da América do Norte e Europa.\n",
    "\n"
   ]
  }
 ],
 "metadata": {
  "kernelspec": {
   "display_name": "Python 3 (ipykernel)",
   "language": "python",
   "name": "python3"
  },
  "language_info": {
   "codemirror_mode": {
    "name": "ipython",
    "version": 3
   },
   "file_extension": ".py",
   "mimetype": "text/x-python",
   "name": "python",
   "nbconvert_exporter": "python",
   "pygments_lexer": "ipython3",
   "version": "3.9.13"
  },
  "toc": {
   "base_numbering": 1,
   "nav_menu": {},
   "number_sections": true,
   "sideBar": true,
   "skip_h1_title": true,
   "title_cell": "Table of Contents",
   "title_sidebar": "Contents",
   "toc_cell": false,
   "toc_position": {},
   "toc_section_display": true,
   "toc_window_display": false
  },
  "toc-autonumbering": true,
  "toc-showcode": false,
  "toc-showmarkdowntxt": false,
  "toc-showtags": false
 },
 "nbformat": 4,
 "nbformat_minor": 5
}
